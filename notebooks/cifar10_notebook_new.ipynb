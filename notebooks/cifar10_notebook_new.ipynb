{
 "cells": [
  {
   "cell_type": "code",
   "execution_count": 13,
   "metadata": {
    "ExecuteTime": {
     "end_time": "2023-09-18T10:12:25.020807314Z",
     "start_time": "2023-09-18T10:12:24.981975564Z"
    }
   },
   "outputs": [],
   "source": [
    "import os\n",
    "import sys\n",
    "\n",
    "sys.path.append(\"..\")\n",
    "\n",
    "import numpy as np\n",
    "import tensorflow as tf\n",
    "import matplotlib.pyplot as plt\n",
    "from keras.datasets import cifar10\n",
    "from mvae.multiscale_vae_ import MultiscaleVae\n",
    "\n",
    "os.environ[\"TF_CPP_MIN_LOG_LEVEL\"] = \"3\"\n",
    "tf.compat.v1.logging.set_verbosity(tf.compat.v1.logging.ERROR)"
   ]
  },
  {
   "cell_type": "code",
   "execution_count": 14,
   "metadata": {
    "ExecuteTime": {
     "end_time": "2023-09-18T10:12:25.033830055Z",
     "start_time": "2023-09-18T10:12:24.993424108Z"
    }
   },
   "outputs": [],
   "source": [
    "# run params\n",
    "SECTION = \"vae\"\n",
    "RUN_ID = \"0001\"\n",
    "DATA_NAME = \"cifar10\"\n",
    "BASE_DIR= \"./run\"\n",
    "BASE_DIR_SECTION = \"{0}/{1}/\".format(BASE_DIR, SECTION)\n",
    "RUN_FOLDER = BASE_DIR_SECTION + \"_\".join([RUN_ID, DATA_NAME])\n",
    "\n",
    "if not os.path.exists(BASE_DIR):\n",
    "    os.mkdir(BASE_DIR)\n",
    "    \n",
    "if not os.path.exists(BASE_DIR_SECTION):\n",
    "    os.mkdir(BASE_DIR_SECTION)\n",
    "    \n",
    "if not os.path.exists(RUN_FOLDER):\n",
    "    os.mkdir(RUN_FOLDER)\n",
    "    os.mkdir(os.path.join(RUN_FOLDER, \"viz\"))\n",
    "    os.mkdir(os.path.join(RUN_FOLDER, \"images\"))\n",
    "    os.mkdir(os.path.join(RUN_FOLDER, \"weights\"))\n",
    "\n",
    "mode = \"build\""
   ]
  },
  {
   "cell_type": "code",
   "execution_count": 15,
   "metadata": {
    "ExecuteTime": {
     "end_time": "2023-09-18T10:12:26.341269970Z",
     "start_time": "2023-09-18T10:12:25.002531435Z"
    }
   },
   "outputs": [],
   "source": [
    "(x_train, y_train), (x_test, y_test) = cifar10.load_data()\n",
    "x_train = x_train.astype(\"float32\") / 255.0\n",
    "x_test = x_test.astype(\"float32\") / 255.0"
   ]
  },
  {
   "cell_type": "code",
   "execution_count": 16,
   "metadata": {
    "ExecuteTime": {
     "end_time": "2023-09-18T10:12:26.403504708Z",
     "start_time": "2023-09-18T10:12:26.341046396Z"
    }
   },
   "outputs": [
    {
     "data": {
      "text/plain": "<Figure size 432x288 with 1 Axes>",
      "image/png": "[encoded data removed]"
     },
     "metadata": {
      "needs_background": "light"
     },
     "output_type": "display_data"
    }
   ],
   "source": [
    "# Display original\n",
    "plt.figure()\n",
    "plt.imshow(x_train[0,:,:,:]) \n",
    "plt.show()  "
   ]
  },
  {
   "cell_type": "code",
   "execution_count": 17,
   "metadata": {
    "ExecuteTime": {
     "end_time": "2023-09-18T10:12:28.721662808Z",
     "start_time": "2023-09-18T10:12:26.397101541Z"
    }
   },
   "outputs": [
    {
     "name": "stderr",
     "output_type": "stream",
     "text": [
      "2023-09-18 13:12:26,395 INFO multiscale_vae.py:_build:109] Building multiscale input\n",
      "2023-09-18 13:12:26,395 INFO multiscale_vae.py:_build:167] Building encoder\n",
      "2023-09-18 13:12:26,396 INFO multiscale_vae.py:_build:173] Encoder scale [0]\n",
      "2023-09-18 13:12:27,254 INFO multiscale_vae.py:_build:173] Encoder scale [1]\n",
      "2023-09-18 13:12:27,366 INFO multiscale_vae.py:_build:173] Encoder scale [2]\n",
      "2023-09-18 13:12:27,621 INFO multiscale_vae.py:_build:188] Building decoder\n",
      "2023-09-18 13:12:27,621 INFO multiscale_vae.py:_build:191] Decoder scale [0]\n",
      "2023-09-18 13:12:27,739 INFO multiscale_vae.py:_build:191] Decoder scale [1]\n",
      "2023-09-18 13:12:27,853 INFO multiscale_vae.py:_build:191] Decoder scale [2]\n",
      "2023-09-18 13:12:27,964 INFO multiscale_vae.py:_build:203] Building merge decoder\n",
      "2023-09-18 13:12:28,003 INFO multiscale_vae.py:_build:227] Building encoder model\n",
      "2023-09-18 13:12:28,163 INFO multiscale_vae.py:_build:246] Building decoder model\n",
      "2023-09-18 13:12:28,369 INFO multiscale_vae.py:_build:260] Building end-to-end trainable model\n"
     ]
    }
   ],
   "source": [
    "multiscale_vae = MultiscaleVAE(\n",
    "    input_dims=(32,32,3), \n",
    "    z_dims=[16, 64, 256],\n",
    "    encoder={\n",
    "        \"filters\": [64, 64, 64, 64, 32],\n",
    "        \"kernel_size\": [(5, 5), (3, 3), (3, 3,), (1, 1), (1, 1)],\n",
    "        \"strides\": [(2, 2), (1, 1), (1, 1), (1, 1), (1, 1)]\n",
    "            },\n",
    "    decoder={\n",
    "        \"filters\":[64, 64, 64, 64, 32],\n",
    "        \"kernel_size\": [(5, 5), (3, 3), (3, 3,), (1, 1), (1, 1)],\n",
    "        \"strides\": [(2, 2), (1, 1), (1, 1), (1, 1), (1, 1)]\n",
    "    })"
   ]
  },
  {
   "cell_type": "code",
   "execution_count": 18,
   "metadata": {
    "ExecuteTime": {
     "end_time": "2023-09-18T10:12:28.729654533Z",
     "start_time": "2023-09-18T10:12:28.723244240Z"
    }
   },
   "outputs": [],
   "source": [
    "LEARNING_RATE = 0.001\n",
    "R_LOSS_FACTOR = 1000\n",
    "KL_LOSS_FACTOR = 10"
   ]
  },
  {
   "cell_type": "code",
   "execution_count": 19,
   "metadata": {
    "ExecuteTime": {
     "end_time": "2023-09-18T10:12:28.752223219Z",
     "start_time": "2023-09-18T10:12:28.726046937Z"
    }
   },
   "outputs": [],
   "source": [
    "multiscale_vae.compile(\n",
    "    learning_rate=LEARNING_RATE, \n",
    "    r_loss_factor=R_LOSS_FACTOR,\n",
    "    kl_loss_factor=KL_LOSS_FACTOR\n",
    ")"
   ]
  },
  {
   "cell_type": "code",
   "execution_count": 20,
   "metadata": {
    "ExecuteTime": {
     "end_time": "2023-09-18T10:12:28.762119082Z",
     "start_time": "2023-09-18T10:12:28.752490221Z"
    }
   },
   "outputs": [],
   "source": [
    "EPOCHS = 50\n",
    "BATCH_SIZE = 32\n",
    "PRINT_EVERY_N_BATCHES = 1000\n",
    "INITIAL_EPOCH = 0"
   ]
  },
  {
   "cell_type": "code",
   "execution_count": 21,
   "metadata": {
    "ExecuteTime": {
     "end_time": "2023-09-18T10:12:28.829482596Z",
     "start_time": "2023-09-18T10:12:28.763562648Z"
    }
   },
   "outputs": [
    {
     "ename": "AttributeError",
     "evalue": "'MultiscaleVAE' object has no attribute 'model_predict'",
     "output_type": "error",
     "traceback": [
      "\u001B[0;31m---------------------------------------------------------------------------\u001B[0m",
      "\u001B[0;31mAttributeError\u001B[0m                            Traceback (most recent call last)",
      "\u001B[0;32m<ipython-input-21-10d076814096>\u001B[0m in \u001B[0;36m<module>\u001B[0;34m\u001B[0m\n\u001B[1;32m      1\u001B[0m \u001B[0;31m# serialize model to JSON\u001B[0m\u001B[0;34m\u001B[0m\u001B[0;34m\u001B[0m\u001B[0;34m\u001B[0m\u001B[0m\n\u001B[0;32m----> 2\u001B[0;31m \u001B[0mmodel_json\u001B[0m \u001B[0;34m=\u001B[0m \u001B[0mmultiscale_vae\u001B[0m\u001B[0;34m.\u001B[0m\u001B[0mmodel_predict\u001B[0m\u001B[0;34m.\u001B[0m\u001B[0mto_json\u001B[0m\u001B[0;34m(\u001B[0m\u001B[0;34m)\u001B[0m\u001B[0;34m\u001B[0m\u001B[0;34m\u001B[0m\u001B[0m\n\u001B[0m\u001B[1;32m      3\u001B[0m \u001B[0;32mwith\u001B[0m \u001B[0mopen\u001B[0m\u001B[0;34m(\u001B[0m\u001B[0;34m\"model_predict.json\"\u001B[0m\u001B[0;34m,\u001B[0m \u001B[0;34m\"w\"\u001B[0m\u001B[0;34m)\u001B[0m \u001B[0;32mas\u001B[0m \u001B[0mjson_file\u001B[0m\u001B[0;34m:\u001B[0m\u001B[0;34m\u001B[0m\u001B[0;34m\u001B[0m\u001B[0m\n\u001B[1;32m      4\u001B[0m     \u001B[0mjson_file\u001B[0m\u001B[0;34m.\u001B[0m\u001B[0mwrite\u001B[0m\u001B[0;34m(\u001B[0m\u001B[0mmodel_json\u001B[0m\u001B[0;34m)\u001B[0m\u001B[0;34m\u001B[0m\u001B[0;34m\u001B[0m\u001B[0m\n",
      "\u001B[0;31mAttributeError\u001B[0m: 'MultiscaleVAE' object has no attribute 'model_predict'"
     ]
    }
   ],
   "source": [
    "# serialize model to JSON\n",
    "model_json = multiscale_vae.model_trainable.to_json()\n",
    "with open(\"model_trainable.json\", \"w\") as json_file:\n",
    "    json_file.write(model_json)"
   ]
  },
  {
   "cell_type": "code",
   "execution_count": null,
   "metadata": {
    "scrolled": false,
    "ExecuteTime": {
     "start_time": "2023-09-18T10:12:28.829363924Z"
    }
   },
   "outputs": [],
   "source": [
    "multiscale_vae.train(     \n",
    "    x_train, \n",
    "    batch_size = BATCH_SIZE, \n",
    "    epochs = EPOCHS, \n",
    "    run_folder = RUN_FOLDER, \n",
    "    print_every_n_batches = PRINT_EVERY_N_BATCHES, \n",
    "    initial_epoch = INITIAL_EPOCH,\n",
    "    step_size=10,\n",
    "    lr_decay=0.5\n",
    ")"
   ]
  },
  {
   "cell_type": "code",
   "execution_count": null,
   "metadata": {
    "ExecuteTime": {
     "end_time": "2023-09-18T10:12:28.830039925Z",
     "start_time": "2023-09-18T10:12:28.829700387Z"
    }
   },
   "outputs": [],
   "source": [
    "results = multiscale_vae.model_predict.predict(x_train[0:10,:,:,:])"
   ]
  },
  {
   "cell_type": "code",
   "execution_count": null,
   "metadata": {
    "ExecuteTime": {
     "start_time": "2023-09-18T10:12:28.829947615Z"
    }
   },
   "outputs": [],
   "source": [
    "fig, axs = plt.subplots(1, 2, figsize=(15,15))\n",
    "plt.subplot(1,2,1)\n",
    "plt.xlabel(\"original\")\n",
    "plt.imshow(x_train[0,:,:,:])\n",
    "plt.subplot(1,2,2)\n",
    "plt.imshow(results[0,:,:,:])\n",
    "plt.xlabel(\"recovery\")\n",
    "plt.show() "
   ]
  },
  {
   "cell_type": "code",
   "execution_count": null,
   "metadata": {
    "ExecuteTime": {
     "end_time": "2023-09-18T10:12:28.830925497Z",
     "start_time": "2023-09-18T10:12:28.830151003Z"
    }
   },
   "outputs": [],
   "source": [
    "fig, axs = plt.subplots(1, 2, figsize=(15,15))\n",
    "plt.subplot(1,2,1)\n",
    "plt.xlabel(\"original\")\n",
    "plt.imshow(x_train[1,:,:,:])\n",
    "plt.subplot(1,2,2)\n",
    "plt.imshow(results[1,:,:,:])\n",
    "plt.xlabel(\"recovery\")\n",
    "plt.show() "
   ]
  },
  {
   "cell_type": "code",
   "execution_count": null,
   "metadata": {
    "ExecuteTime": {
     "start_time": "2023-09-18T10:12:28.830300811Z"
    }
   },
   "outputs": [],
   "source": [
    "fig, axs = plt.subplots(1, 2, figsize=(15,15))\n",
    "plt.subplot(1,2,1)\n",
    "plt.xlabel(\"original\")\n",
    "plt.imshow(x_train[2,:,:,:])\n",
    "plt.subplot(1,2,2)\n",
    "plt.imshow(results[2,:,:,:])\n",
    "plt.xlabel(\"recovery\")\n",
    "plt.show() "
   ]
  },
  {
   "cell_type": "code",
   "execution_count": null,
   "metadata": {
    "ExecuteTime": {
     "start_time": "2023-09-18T10:12:28.830422847Z"
    }
   },
   "outputs": [],
   "source": []
  }
 ],
 "metadata": {
  "kernelspec": {
   "display_name": "Python 3",
   "language": "python",
   "name": "python3"
  },
  "language_info": {
   "codemirror_mode": {
    "name": "ipython",
    "version": 3
   },
   "file_extension": ".py",
   "mimetype": "text/x-python",
   "name": "python",
   "nbconvert_exporter": "python",
   "pygments_lexer": "ipython3",
   "version": "3.7.6"
  }
 },
 "nbformat": 4,
 "nbformat_minor": 4
}
