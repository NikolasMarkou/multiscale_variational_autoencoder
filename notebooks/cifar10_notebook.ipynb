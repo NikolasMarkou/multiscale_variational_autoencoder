{
 "cells": [
  {
   "cell_type": "code",
   "execution_count": null,
   "metadata": {},
   "outputs": [],
   "source": [
    "import os\n",
    "import sys\n",
    "\n",
    "import sys\n",
    "sys.path.append(\"..\")\n",
    "\n",
    "import numpy as np\n",
    "import tensorflow as tf\n",
    "import matplotlib.pyplot as plt\n",
    "from keras.datasets import cifar10\n",
    "from models.multiscale_vae import MultiscaleVariationalAutoencoder\n",
    "\n",
    "import utils\n",
    "import utils.transform\n",
    "\n",
    "os.environ[\"TF_CPP_MIN_LOG_LEVEL\"] = \"3\"\n",
    "tf.compat.v1.logging.set_verbosity(tf.compat.v1.logging.ERROR)"
   ]
  },
  {
   "cell_type": "code",
   "execution_count": null,
   "metadata": {},
   "outputs": [],
   "source": [
    "# run params\n",
    "SECTION = \"vae\"\n",
    "RUN_ID = \"0001\"\n",
    "DATA_NAME = \"cifar10\"\n",
    "BASE_DIR= \"./run\"\n",
    "BASE_DIR_SECTION = \"{0}/{1}/\".format(BASE_DIR, SECTION)\n",
    "RUN_FOLDER = BASE_DIR_SECTION + \"_\".join([RUN_ID, DATA_NAME])\n",
    "\n",
    "if not os.path.exists(BASE_DIR):\n",
    "    os.mkdir(BASE_DIR)\n",
    "    \n",
    "if not os.path.exists(BASE_DIR_SECTION):\n",
    "    os.mkdir(BASE_DIR_SECTION)\n",
    "    \n",
    "if not os.path.exists(RUN_FOLDER):\n",
    "    os.mkdir(RUN_FOLDER)\n",
    "    os.mkdir(os.path.join(RUN_FOLDER, \"viz\"))\n",
    "    os.mkdir(os.path.join(RUN_FOLDER, \"images\"))\n",
    "    os.mkdir(os.path.join(RUN_FOLDER, \"weights\"))\n",
    "\n",
    "mode = \"build\""
   ]
  },
  {
   "cell_type": "code",
   "execution_count": null,
   "metadata": {},
   "outputs": [],
   "source": [
    "(x_train, y_train), (x_test, y_test) = cifar10.load_data()\n",
    "x_train = x_train.astype(\"float32\") / 255.0\n",
    "x_test = x_test.astype(\"float32\") / 255.0"
   ]
  },
  {
   "cell_type": "code",
   "execution_count": null,
   "metadata": {},
   "outputs": [],
   "source": [
    "# Display original\n",
    "plt.figure()\n",
    "plt.imshow(x_train[0,:,:,:]) \n",
    "plt.show()  "
   ]
  },
  {
   "cell_type": "code",
   "execution_count": null,
   "metadata": {},
   "outputs": [],
   "source": [
    "multiscale_vae = MultiscaleVariationalAutoencoder(\n",
    "    input_dims=(32,32,3), \n",
    "    levels=3, \n",
    "    z_dims=[64, 128, 256])"
   ]
  },
  {
   "cell_type": "code",
   "execution_count": null,
   "metadata": {},
   "outputs": [],
   "source": [
    "LEARNING_RATE = 0.001\n",
    "R_LOSS_FACTOR = 1000\n",
    "KL_LOSS_FACTOR = 10"
   ]
  },
  {
   "cell_type": "code",
   "execution_count": null,
   "metadata": {},
   "outputs": [],
   "source": [
    "multiscale_vae.compile(\n",
    "    learning_rate=LEARNING_RATE, \n",
    "    r_loss_factor=R_LOSS_FACTOR,\n",
    "    kl_loss_factor=KL_LOSS_FACTOR\n",
    ")"
   ]
  },
  {
   "cell_type": "code",
   "execution_count": null,
   "metadata": {},
   "outputs": [],
   "source": [
    "EPOCHS = 100\n",
    "BATCH_SIZE = 32\n",
    "PRINT_EVERY_N_BATCHES = 1000\n",
    "INITIAL_EPOCH = 0"
   ]
  },
  {
   "cell_type": "code",
   "execution_count": null,
   "metadata": {},
   "outputs": [],
   "source": [
    "# serialize model to JSON\n",
    "model_json = multiscale_vae.model_predict.to_json()\n",
    "with open(\"model_predict.json\", \"w\") as json_file:\n",
    "    json_file.write(model_json)"
   ]
  },
  {
   "cell_type": "code",
   "execution_count": null,
   "metadata": {
    "scrolled": true
   },
   "outputs": [],
   "source": [
    "multiscale_vae.train(     \n",
    "    x_train, \n",
    "    batch_size = BATCH_SIZE, \n",
    "    epochs = EPOCHS, \n",
    "    run_folder = RUN_FOLDER, \n",
    "    print_every_n_batches = PRINT_EVERY_N_BATCHES, \n",
    "    initial_epoch = INITIAL_EPOCH,\n",
    "    step_size=20,\n",
    "    lr_decay=0.5\n",
    ")"
   ]
  },
  {
   "cell_type": "code",
   "execution_count": null,
   "metadata": {},
   "outputs": [],
   "source": [
    "results = multiscale_vae.model_predict.predict(x_train[0:1,:,:,:])"
   ]
  },
  {
   "cell_type": "code",
   "execution_count": null,
   "metadata": {},
   "outputs": [],
   "source": [
    "fig, axs = plt.subplots(1, 2, figsize=(15,15))\n",
    "plt.subplot(1,2,1)\n",
    "plt.xlabel(\"original\")\n",
    "plt.imshow(x_train[0,:,:,:])\n",
    "plt.subplot(1,2,2)\n",
    "plt.imshow(results[0,:,:,:])\n",
    "plt.xlabel(\"recovery\")\n",
    "plt.show() "
   ]
  },
  {
   "cell_type": "code",
   "execution_count": null,
   "metadata": {},
   "outputs": [],
   "source": []
  },
  {
   "cell_type": "code",
   "execution_count": null,
   "metadata": {},
   "outputs": [],
   "source": []
  }
 ],
 "metadata": {
  "kernelspec": {
   "display_name": "Python 3",
   "language": "python",
   "name": "python3"
  },
  "language_info": {
   "codemirror_mode": {
    "name": "ipython",
    "version": 3
   },
   "file_extension": ".py",
   "mimetype": "text/x-python",
   "name": "python",
   "nbconvert_exporter": "python",
   "pygments_lexer": "ipython3",
   "version": "3.7.4"
  }
 },
 "nbformat": 4,
 "nbformat_minor": 4
}
