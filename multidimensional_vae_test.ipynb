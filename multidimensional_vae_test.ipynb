{
 "cells": [
  {
   "cell_type": "code",
   "execution_count": 1,
   "metadata": {},
   "outputs": [
    {
     "name": "stderr",
     "output_type": "stream",
     "text": [
      "Using TensorFlow backend.\n"
     ]
    }
   ],
   "source": [
    "import os\n",
    "\n",
    "os.environ[\"CUDA_VISIBLE_DEVICES\"]=\"0\"\n",
    "\n",
    "import numpy as np\n",
    "import matplotlib.pyplot as plt\n",
    "from keras.datasets import cifar10\n",
    "from models.multiscale_vae import MultiscaleVariationalAutoencoder\n",
    "\n",
    "import utils\n",
    "import utils.transform"
   ]
  },
  {
   "cell_type": "code",
   "execution_count": 2,
   "metadata": {},
   "outputs": [],
   "source": [
    "# run params\n",
    "SECTION = \"vae\"\n",
    "RUN_ID = \"0002\"\n",
    "DATA_NAME = \"digits\"\n",
    "BASE_DIR= \"./run\"\n",
    "BASE_DIR_SECTION = \"{0}/{1}/\".format(BASE_DIR, SECTION)\n",
    "RUN_FOLDER = BASE_DIR_SECTION + \"_\".join([RUN_ID, DATA_NAME])\n",
    "\n",
    "if not os.path.exists(BASE_DIR):\n",
    "    os.mkdir(BASE_DIR)\n",
    "    \n",
    "if not os.path.exists(BASE_DIR_SECTION):\n",
    "    os.mkdir(BASE_DIR_SECTION)\n",
    "    \n",
    "if not os.path.exists(RUN_FOLDER):\n",
    "    os.mkdir(RUN_FOLDER)\n",
    "    os.mkdir(os.path.join(RUN_FOLDER, \"viz\"))\n",
    "    os.mkdir(os.path.join(RUN_FOLDER, \"images\"))\n",
    "    os.mkdir(os.path.join(RUN_FOLDER, \"weights\"))\n",
    "\n",
    "mode = \"build\""
   ]
  },
  {
   "cell_type": "code",
   "execution_count": 3,
   "metadata": {},
   "outputs": [],
   "source": [
    "(x_train, y_train), (x_test, y_test) = cifar10.load_data()\n",
    "x_train = x_train.astype(\"float32\") / 255.0\n",
    "x_test = x_test.astype(\"float32\") / 255.0"
   ]
  },
  {
   "cell_type": "code",
   "execution_count": 4,
   "metadata": {},
   "outputs": [
    {
     "data": {
      "image/png": "[encoded data removed]",
      "text/plain": [
       "<Figure size 432x288 with 1 Axes>"
      ]
     },
     "metadata": {
      "needs_background": "light"
     },
     "output_type": "display_data"
    }
   ],
   "source": [
    "# Display original\n",
    "plt.figure()\n",
    "plt.imshow(x_train[0,:,:,:]) \n",
    "plt.show()  "
   ]
  },
  {
   "cell_type": "code",
   "execution_count": 5,
   "metadata": {},
   "outputs": [],
   "source": [
    "multiscale_vae = MultiscaleVariationalAutoencoder(\n",
    "    input_dims=(32,32,3), \n",
    "    levels=4, \n",
    "    z_dims=[32,32,32,32])"
   ]
  },
  {
   "cell_type": "code",
   "execution_count": 6,
   "metadata": {},
   "outputs": [],
   "source": [
    "LEARNING_RATE = 0.001\n",
    "R_LOSS_FACTOR = 100\n",
    "KL_LOSS_FACTOR = 10"
   ]
  },
  {
   "cell_type": "code",
   "execution_count": 7,
   "metadata": {},
   "outputs": [],
   "source": [
    "multiscale_vae.compile(\n",
    "    learning_rate=LEARNING_RATE, \n",
    "    r_loss_factor=R_LOSS_FACTOR,\n",
    "    kl_loss_factor=KL_LOSS_FACTOR\n",
    ")"
   ]
  },
  {
   "cell_type": "code",
   "execution_count": 8,
   "metadata": {},
   "outputs": [],
   "source": [
    "EPOCHS = 100\n",
    "BATCH_SIZE = 32\n",
    "PRINT_EVERY_N_BATCHES = 100\n",
    "INITIAL_EPOCH = 0"
   ]
  },
  {
   "cell_type": "code",
   "execution_count": 9,
   "metadata": {},
   "outputs": [],
   "source": [
    "# serialize model to JSON\n",
    "model_json = multiscale_vae.model_trainable.to_json()\n",
    "with open(\"model_trainable.json\", \"w\") as json_file:\n",
    "    json_file.write(model_json)"
   ]
  },
  {
   "cell_type": "code",
   "execution_count": 10,
   "metadata": {},
   "outputs": [],
   "source": [
    "# serialize model to JSON\n",
    "model_json = multiscale_vae.model_predict.to_json()\n",
    "with open(\"model_predict.json\", \"w\") as json_file:\n",
    "    json_file.write(model_json)"
   ]
  },
  {
   "cell_type": "code",
   "execution_count": 11,
   "metadata": {
    "scrolled": true
   },
   "outputs": [
    {
     "name": "stdout",
     "output_type": "stream",
     "text": [
      "Epoch 1/100\n",
      "50000/50000 [==============================] - 105s 2ms/step - loss: 141.2815 - activation_2_loss: 32.4439 - add_1_loss: 34.9541 - add_2_loss: 36.7991 - add_3_loss: 37.0652 - activation_2_vae_r_loss: 24.9736 - activation_2_vae_kl_loss: 7.4751 - add_1_vae_r_loss: 27.4837 - add_1_vae_kl_loss: 7.4751 - add_2_vae_r_loss: 29.3289 - add_2_vae_kl_loss: 7.4751 - add_3_vae_r_loss: 29.5948 - add_3_vae_kl_loss: 7.4751\n",
      "\n",
      "Epoch 00001: saving model to ./run/vae/0002_digits\\weights/weights-001-141.28.h5\n",
      "\n",
      "Epoch 00001: saving model to ./run/vae/0002_digits\\weights/weights.h5\n",
      "Epoch 2/100\n",
      "50000/50000 [==============================] - 92s 2ms/step - loss: 78.0349 - activation_2_loss: 17.1452 - add_1_loss: 19.4535 - add_2_loss: 20.5207 - add_3_loss: 20.9131 - activation_2_vae_r_loss: 17.0651 - activation_2_vae_kl_loss: 0.0804 - add_1_vae_r_loss: 19.3736 - add_1_vae_kl_loss: 0.0804 - add_2_vae_r_loss: 20.4410 - add_2_vae_kl_loss: 0.0804 - add_3_vae_r_loss: 20.8337 - add_3_vae_kl_loss: 0.0804TA: 7s - loss: 78.0422 - activation_2_loss: 17.1654 - add_1_loss: 19.4531 - add_2_loss: 20.5151 - add_3_loss: 20.9087 - activation_2_vae_r_loss: 17.0799 - activation_2_vae_kl_loss: 0.0855 - add_1_vae_r_loss: 19.3676 - add_\n",
      "\n",
      "Epoch 00002: saving model to ./run/vae/0002_digits\\weights/weights-002-78.03.h5\n",
      "\n",
      "Epoch 00002: saving model to ./run/vae/0002_digits\\weights/weights.h5\n",
      "Epoch 3/100\n",
      "50000/50000 [==============================] - 92s 2ms/step - loss: 76.8323 - activation_2_loss: 16.7019 - add_1_loss: 19.1244 - add_2_loss: 20.2922 - add_3_loss: 20.7137 - activation_2_vae_r_loss: 16.4272 - activation_2_vae_kl_loss: 0.2745 - add_1_vae_r_loss: 18.8499 - add_1_vae_kl_loss: 0.2745 - add_2_vae_r_loss: 20.0178 - add_2_vae_kl_loss: 0.2745 - add_3_vae_r_loss: 20.4394 - add_3_vae_kl_loss: 0.2745\n",
      "\n",
      "Epoch 00003: saving model to ./run/vae/0002_digits\\weights/weights-003-76.83.h5\n",
      "\n",
      "Epoch 00003: saving model to ./run/vae/0002_digits\\weights/weights.h5\n",
      "Epoch 4/100\n",
      "50000/50000 [==============================] - 92s 2ms/step - loss: 75.9488 - activation_2_loss: 16.3891 - add_1_loss: 18.8413 - add_2_loss: 20.1095 - add_3_loss: 20.6067 - activation_2_vae_r_loss: 15.7334 - activation_2_vae_kl_loss: 0.6555 - add_1_vae_r_loss: 18.1862 - add_1_vae_kl_loss: 0.6555 - add_2_vae_r_loss: 19.4548 - add_2_vae_kl_loss: 0.6555 - add_3_vae_r_loss: 19.9522 - add_3_vae_kl_loss: 0.6555\n",
      "\n",
      "Epoch 00004: saving model to ./run/vae/0002_digits\\weights/weights-004-75.95.h5\n",
      "\n",
      "Epoch 00004: saving model to ./run/vae/0002_digits\\weights/weights.h5\n",
      "Epoch 5/100\n",
      "50000/50000 [==============================] - 92s 2ms/step - loss: 75.0083 - activation_2_loss: 16.0809 - add_1_loss: 18.5486 - add_2_loss: 19.9039 - add_3_loss: 20.4742 - activation_2_vae_r_loss: 15.1047 - activation_2_vae_kl_loss: 0.9763 - add_1_vae_r_loss: 17.5724 - add_1_vae_kl_loss: 0.9763 - add_2_vae_r_loss: 18.9277 - add_2_vae_kl_loss: 0.9763 - add_3_vae_r_loss: 19.4981 - add_3_vae_kl_loss: 0.9763\n",
      "\n",
      "Epoch 00005: saving model to ./run/vae/0002_digits\\weights/weights-005-75.01.h5\n",
      "\n",
      "Epoch 00005: saving model to ./run/vae/0002_digits\\weights/weights.h5\n",
      "Epoch 6/100\n",
      "50000/50000 [==============================] - 92s 2ms/step - loss: 74.7607 - activation_2_loss: 16.0151 - add_1_loss: 18.4705 - add_2_loss: 19.8423 - add_3_loss: 20.4312 - activation_2_vae_r_loss: 14.9186 - activation_2_vae_kl_loss: 1.0969 - add_1_vae_r_loss: 17.3739 - add_1_vae_kl_loss: 1.0969 - add_2_vae_r_loss: 18.7458 - add_2_vae_kl_loss: 1.0969 - add_3_vae_r_loss: 19.3347 - add_3_vae_kl_loss: 1.0969\n",
      "\n",
      "Epoch 00006: saving model to ./run/vae/0002_digits\\weights/weights-006-74.76.h5\n",
      "\n",
      "Epoch 00006: saving model to ./run/vae/0002_digits\\weights/weights.h5\n",
      "Epoch 7/100\n",
      "50000/50000 [==============================] - 93s 2ms/step - loss: 74.6276 - activation_2_loss: 15.9858 - add_1_loss: 18.4334 - add_2_loss: 19.8086 - add_3_loss: 20.4002 - activation_2_vae_r_loss: 14.8684 - activation_2_vae_kl_loss: 1.1172 - add_1_vae_r_loss: 17.3160 - add_1_vae_kl_loss: 1.1172 - add_2_vae_r_loss: 18.6913 - add_2_vae_kl_loss: 1.1172 - add_3_vae_r_loss: 19.2830 - add_3_vae_kl_loss: 1.1172\n",
      "\n",
      "Epoch 00007: saving model to ./run/vae/0002_digits\\weights/weights-007-74.63.h5\n",
      "\n",
      "Epoch 00007: saving model to ./run/vae/0002_digits\\weights/weights.h5\n",
      "Epoch 8/100\n",
      "50000/50000 [==============================] - 189s 4ms/step - loss: 74.5370 - activation_2_loss: 15.9713 - add_1_loss: 18.4070 - add_2_loss: 19.7837 - add_3_loss: 20.3803 - activation_2_vae_r_loss: 14.8546 - activation_2_vae_kl_loss: 1.1155 - add_1_vae_r_loss: 17.2900 - add_1_vae_kl_loss: 1.1155 - add_2_vae_r_loss: 18.6668 - add_2_vae_kl_loss: 1.1155 - add_3_vae_r_loss: 19.2635 - add_3_vae_kl_loss: 1.1155\n",
      "\n",
      "Epoch 00008: saving model to ./run/vae/0002_digits\\weights/weights-008-74.54.h5\n",
      "\n",
      "Epoch 00008: saving model to ./run/vae/0002_digits\\weights/weights.h5\n",
      "Epoch 9/100\n",
      "50000/50000 [==============================] - 361s 7ms/step - loss: 74.4291 - activation_2_loss: 15.9452 - add_1_loss: 18.3775 - add_2_loss: 19.7550 - add_3_loss: 20.3487 - activation_2_vae_r_loss: 14.8245 - activation_2_vae_kl_loss: 1.1209 - add_1_vae_r_loss: 17.2573 - add_1_vae_kl_loss: 1.1209 - add_2_vae_r_loss: 18.6349 - add_2_vae_kl_loss: 1.1209 - add_3_vae_r_loss: 19.2286 - add_3_vae_kl_loss: 1.1209\n",
      "\n",
      "Epoch 00009: saving model to ./run/vae/0002_digits\\weights/weights-009-74.43.h5\n",
      "\n",
      "Epoch 00009: saving model to ./run/vae/0002_digits\\weights/weights.h5\n",
      "Epoch 10/100\n",
      "21888/50000 [============>.................] - ETA: 3:22 - loss: 74.5453 - activation_2_loss: 15.9520 - add_1_loss: 18.4018 - add_2_loss: 19.7913 - add_3_loss: 20.4002 - activation_2_vae_r_loss: 14.8084 - activation_2_vae_kl_loss: 1.1436 - add_1_vae_r_loss: 17.2582 - add_1_vae_kl_loss: 1.1436 - add_2_vae_r_loss: 18.6477 - add_2_vae_kl_loss: 1.1436 - add_3_vae_r_loss: 19.2566 - add_3_vae_kl_loss: 1.1436"
     ]
    },
    {
     "ename": "KeyboardInterrupt",
     "evalue": "",
     "output_type": "error",
     "traceback": [
      "\u001b[1;31m---------------------------------------------------------------------------\u001b[0m",
      "\u001b[1;31mKeyboardInterrupt\u001b[0m                         Traceback (most recent call last)",
      "\u001b[1;32m<ipython-input-11-b9d0426fb9ec>\u001b[0m in \u001b[0;36m<module>\u001b[1;34m\u001b[0m\n\u001b[0;32m      7\u001b[0m     \u001b[0minitial_epoch\u001b[0m \u001b[1;33m=\u001b[0m \u001b[0mINITIAL_EPOCH\u001b[0m\u001b[1;33m,\u001b[0m\u001b[1;33m\u001b[0m\u001b[1;33m\u001b[0m\u001b[0m\n\u001b[0;32m      8\u001b[0m     \u001b[0mstep_size\u001b[0m\u001b[1;33m=\u001b[0m\u001b[1;36m10\u001b[0m\u001b[1;33m,\u001b[0m\u001b[1;33m\u001b[0m\u001b[1;33m\u001b[0m\u001b[0m\n\u001b[1;32m----> 9\u001b[1;33m     \u001b[0mlr_decay\u001b[0m\u001b[1;33m=\u001b[0m\u001b[1;36m0.9\u001b[0m\u001b[1;33m\u001b[0m\u001b[1;33m\u001b[0m\u001b[0m\n\u001b[0m\u001b[0;32m     10\u001b[0m )\n",
      "\u001b[1;32m~\\Documents\\repositories\\multiscale_variational_autoencoder\\models\\multiscale_vae.py\u001b[0m in \u001b[0;36mtrain\u001b[1;34m(self, x_train, batch_size, epochs, run_folder, print_every_n_batches, initial_epoch, step_size, lr_decay)\u001b[0m\n\u001b[0;32m    387\u001b[0m                 \u001b[0mcheckpoint1\u001b[0m\u001b[1;33m,\u001b[0m\u001b[1;33m\u001b[0m\u001b[1;33m\u001b[0m\u001b[0m\n\u001b[0;32m    388\u001b[0m                 \u001b[0mcheckpoint2\u001b[0m\u001b[1;33m,\u001b[0m\u001b[1;33m\u001b[0m\u001b[1;33m\u001b[0m\u001b[0m\n\u001b[1;32m--> 389\u001b[1;33m                 \u001b[0mlr_sched\u001b[0m\u001b[1;33m\u001b[0m\u001b[1;33m\u001b[0m\u001b[0m\n\u001b[0m\u001b[0;32m    390\u001b[0m             ]\n\u001b[0;32m    391\u001b[0m         )\n",
      "\u001b[1;32m~\\AppData\\Local\\Continuum\\anaconda3\\envs\\algolux\\lib\\site-packages\\keras\\engine\\training.py\u001b[0m in \u001b[0;36mfit\u001b[1;34m(self, x, y, batch_size, epochs, verbose, callbacks, validation_split, validation_data, shuffle, class_weight, sample_weight, initial_epoch, steps_per_epoch, validation_steps, validation_freq, max_queue_size, workers, use_multiprocessing, **kwargs)\u001b[0m\n\u001b[0;32m   1237\u001b[0m                                         \u001b[0msteps_per_epoch\u001b[0m\u001b[1;33m=\u001b[0m\u001b[0msteps_per_epoch\u001b[0m\u001b[1;33m,\u001b[0m\u001b[1;33m\u001b[0m\u001b[1;33m\u001b[0m\u001b[0m\n\u001b[0;32m   1238\u001b[0m                                         \u001b[0mvalidation_steps\u001b[0m\u001b[1;33m=\u001b[0m\u001b[0mvalidation_steps\u001b[0m\u001b[1;33m,\u001b[0m\u001b[1;33m\u001b[0m\u001b[1;33m\u001b[0m\u001b[0m\n\u001b[1;32m-> 1239\u001b[1;33m                                         validation_freq=validation_freq)\n\u001b[0m\u001b[0;32m   1240\u001b[0m \u001b[1;33m\u001b[0m\u001b[0m\n\u001b[0;32m   1241\u001b[0m     def evaluate(self,\n",
      "\u001b[1;32m~\\AppData\\Local\\Continuum\\anaconda3\\envs\\algolux\\lib\\site-packages\\keras\\engine\\training_arrays.py\u001b[0m in \u001b[0;36mfit_loop\u001b[1;34m(model, fit_function, fit_inputs, out_labels, batch_size, epochs, verbose, callbacks, val_function, val_inputs, shuffle, initial_epoch, steps_per_epoch, validation_steps, validation_freq)\u001b[0m\n\u001b[0;32m    194\u001b[0m                     \u001b[0mins_batch\u001b[0m\u001b[1;33m[\u001b[0m\u001b[0mi\u001b[0m\u001b[1;33m]\u001b[0m \u001b[1;33m=\u001b[0m \u001b[0mins_batch\u001b[0m\u001b[1;33m[\u001b[0m\u001b[0mi\u001b[0m\u001b[1;33m]\u001b[0m\u001b[1;33m.\u001b[0m\u001b[0mtoarray\u001b[0m\u001b[1;33m(\u001b[0m\u001b[1;33m)\u001b[0m\u001b[1;33m\u001b[0m\u001b[1;33m\u001b[0m\u001b[0m\n\u001b[0;32m    195\u001b[0m \u001b[1;33m\u001b[0m\u001b[0m\n\u001b[1;32m--> 196\u001b[1;33m                 \u001b[0mouts\u001b[0m \u001b[1;33m=\u001b[0m \u001b[0mfit_function\u001b[0m\u001b[1;33m(\u001b[0m\u001b[0mins_batch\u001b[0m\u001b[1;33m)\u001b[0m\u001b[1;33m\u001b[0m\u001b[1;33m\u001b[0m\u001b[0m\n\u001b[0m\u001b[0;32m    197\u001b[0m                 \u001b[0mouts\u001b[0m \u001b[1;33m=\u001b[0m \u001b[0mto_list\u001b[0m\u001b[1;33m(\u001b[0m\u001b[0mouts\u001b[0m\u001b[1;33m)\u001b[0m\u001b[1;33m\u001b[0m\u001b[1;33m\u001b[0m\u001b[0m\n\u001b[0;32m    198\u001b[0m                 \u001b[1;32mfor\u001b[0m \u001b[0ml\u001b[0m\u001b[1;33m,\u001b[0m \u001b[0mo\u001b[0m \u001b[1;32min\u001b[0m \u001b[0mzip\u001b[0m\u001b[1;33m(\u001b[0m\u001b[0mout_labels\u001b[0m\u001b[1;33m,\u001b[0m \u001b[0mouts\u001b[0m\u001b[1;33m)\u001b[0m\u001b[1;33m:\u001b[0m\u001b[1;33m\u001b[0m\u001b[1;33m\u001b[0m\u001b[0m\n",
      "\u001b[1;32m~\\AppData\\Local\\Continuum\\anaconda3\\envs\\algolux\\lib\\site-packages\\tensorflow_core\\python\\keras\\backend.py\u001b[0m in \u001b[0;36m__call__\u001b[1;34m(self, inputs)\u001b[0m\n\u001b[0;32m   3725\u001b[0m         \u001b[0mvalue\u001b[0m \u001b[1;33m=\u001b[0m \u001b[0mmath_ops\u001b[0m\u001b[1;33m.\u001b[0m\u001b[0mcast\u001b[0m\u001b[1;33m(\u001b[0m\u001b[0mvalue\u001b[0m\u001b[1;33m,\u001b[0m \u001b[0mtensor\u001b[0m\u001b[1;33m.\u001b[0m\u001b[0mdtype\u001b[0m\u001b[1;33m)\u001b[0m\u001b[1;33m\u001b[0m\u001b[1;33m\u001b[0m\u001b[0m\n\u001b[0;32m   3726\u001b[0m       \u001b[0mconverted_inputs\u001b[0m\u001b[1;33m.\u001b[0m\u001b[0mappend\u001b[0m\u001b[1;33m(\u001b[0m\u001b[0mvalue\u001b[0m\u001b[1;33m)\u001b[0m\u001b[1;33m\u001b[0m\u001b[1;33m\u001b[0m\u001b[0m\n\u001b[1;32m-> 3727\u001b[1;33m     \u001b[0moutputs\u001b[0m \u001b[1;33m=\u001b[0m \u001b[0mself\u001b[0m\u001b[1;33m.\u001b[0m\u001b[0m_graph_fn\u001b[0m\u001b[1;33m(\u001b[0m\u001b[1;33m*\u001b[0m\u001b[0mconverted_inputs\u001b[0m\u001b[1;33m)\u001b[0m\u001b[1;33m\u001b[0m\u001b[1;33m\u001b[0m\u001b[0m\n\u001b[0m\u001b[0;32m   3728\u001b[0m \u001b[1;33m\u001b[0m\u001b[0m\n\u001b[0;32m   3729\u001b[0m     \u001b[1;31m# EagerTensor.numpy() will often make a copy to ensure memory safety.\u001b[0m\u001b[1;33m\u001b[0m\u001b[1;33m\u001b[0m\u001b[1;33m\u001b[0m\u001b[0m\n",
      "\u001b[1;32m~\\AppData\\Local\\Continuum\\anaconda3\\envs\\algolux\\lib\\site-packages\\tensorflow_core\\python\\eager\\function.py\u001b[0m in \u001b[0;36m__call__\u001b[1;34m(self, *args, **kwargs)\u001b[0m\n\u001b[0;32m   1549\u001b[0m       \u001b[0mTypeError\u001b[0m\u001b[1;33m:\u001b[0m \u001b[0mFor\u001b[0m \u001b[0minvalid\u001b[0m \u001b[0mpositional\u001b[0m\u001b[1;33m/\u001b[0m\u001b[0mkeyword\u001b[0m \u001b[0margument\u001b[0m \u001b[0mcombinations\u001b[0m\u001b[1;33m.\u001b[0m\u001b[1;33m\u001b[0m\u001b[1;33m\u001b[0m\u001b[0m\n\u001b[0;32m   1550\u001b[0m     \"\"\"\n\u001b[1;32m-> 1551\u001b[1;33m     \u001b[1;32mreturn\u001b[0m \u001b[0mself\u001b[0m\u001b[1;33m.\u001b[0m\u001b[0m_call_impl\u001b[0m\u001b[1;33m(\u001b[0m\u001b[0margs\u001b[0m\u001b[1;33m,\u001b[0m \u001b[0mkwargs\u001b[0m\u001b[1;33m)\u001b[0m\u001b[1;33m\u001b[0m\u001b[1;33m\u001b[0m\u001b[0m\n\u001b[0m\u001b[0;32m   1552\u001b[0m \u001b[1;33m\u001b[0m\u001b[0m\n\u001b[0;32m   1553\u001b[0m   \u001b[1;32mdef\u001b[0m \u001b[0m_call_impl\u001b[0m\u001b[1;33m(\u001b[0m\u001b[0mself\u001b[0m\u001b[1;33m,\u001b[0m \u001b[0margs\u001b[0m\u001b[1;33m,\u001b[0m \u001b[0mkwargs\u001b[0m\u001b[1;33m,\u001b[0m \u001b[0mcancellation_manager\u001b[0m\u001b[1;33m=\u001b[0m\u001b[1;32mNone\u001b[0m\u001b[1;33m)\u001b[0m\u001b[1;33m:\u001b[0m\u001b[1;33m\u001b[0m\u001b[1;33m\u001b[0m\u001b[0m\n",
      "\u001b[1;32m~\\AppData\\Local\\Continuum\\anaconda3\\envs\\algolux\\lib\\site-packages\\tensorflow_core\\python\\eager\\function.py\u001b[0m in \u001b[0;36m_call_impl\u001b[1;34m(self, args, kwargs, cancellation_manager)\u001b[0m\n\u001b[0;32m   1589\u001b[0m       raise TypeError(\"Keyword arguments {} unknown. Expected {}.\".format(\n\u001b[0;32m   1590\u001b[0m           list(kwargs.keys()), list(self._arg_keywords)))\n\u001b[1;32m-> 1591\u001b[1;33m     \u001b[1;32mreturn\u001b[0m \u001b[0mself\u001b[0m\u001b[1;33m.\u001b[0m\u001b[0m_call_flat\u001b[0m\u001b[1;33m(\u001b[0m\u001b[0margs\u001b[0m\u001b[1;33m,\u001b[0m \u001b[0mself\u001b[0m\u001b[1;33m.\u001b[0m\u001b[0mcaptured_inputs\u001b[0m\u001b[1;33m,\u001b[0m \u001b[0mcancellation_manager\u001b[0m\u001b[1;33m)\u001b[0m\u001b[1;33m\u001b[0m\u001b[1;33m\u001b[0m\u001b[0m\n\u001b[0m\u001b[0;32m   1592\u001b[0m \u001b[1;33m\u001b[0m\u001b[0m\n\u001b[0;32m   1593\u001b[0m   \u001b[1;32mdef\u001b[0m \u001b[0m_filtered_call\u001b[0m\u001b[1;33m(\u001b[0m\u001b[0mself\u001b[0m\u001b[1;33m,\u001b[0m \u001b[0margs\u001b[0m\u001b[1;33m,\u001b[0m \u001b[0mkwargs\u001b[0m\u001b[1;33m)\u001b[0m\u001b[1;33m:\u001b[0m\u001b[1;33m\u001b[0m\u001b[1;33m\u001b[0m\u001b[0m\n",
      "\u001b[1;32m~\\AppData\\Local\\Continuum\\anaconda3\\envs\\algolux\\lib\\site-packages\\tensorflow_core\\python\\eager\\function.py\u001b[0m in \u001b[0;36m_call_flat\u001b[1;34m(self, args, captured_inputs, cancellation_manager)\u001b[0m\n\u001b[0;32m   1690\u001b[0m       \u001b[1;31m# No tape is watching; skip to running the function.\u001b[0m\u001b[1;33m\u001b[0m\u001b[1;33m\u001b[0m\u001b[1;33m\u001b[0m\u001b[0m\n\u001b[0;32m   1691\u001b[0m       return self._build_call_outputs(self._inference_function.call(\n\u001b[1;32m-> 1692\u001b[1;33m           ctx, args, cancellation_manager=cancellation_manager))\n\u001b[0m\u001b[0;32m   1693\u001b[0m     forward_backward = self._select_forward_and_backward_functions(\n\u001b[0;32m   1694\u001b[0m         \u001b[0margs\u001b[0m\u001b[1;33m,\u001b[0m\u001b[1;33m\u001b[0m\u001b[1;33m\u001b[0m\u001b[0m\n",
      "\u001b[1;32m~\\AppData\\Local\\Continuum\\anaconda3\\envs\\algolux\\lib\\site-packages\\tensorflow_core\\python\\eager\\function.py\u001b[0m in \u001b[0;36mcall\u001b[1;34m(self, ctx, args, cancellation_manager)\u001b[0m\n\u001b[0;32m    543\u001b[0m               \u001b[0minputs\u001b[0m\u001b[1;33m=\u001b[0m\u001b[0margs\u001b[0m\u001b[1;33m,\u001b[0m\u001b[1;33m\u001b[0m\u001b[1;33m\u001b[0m\u001b[0m\n\u001b[0;32m    544\u001b[0m               \u001b[0mattrs\u001b[0m\u001b[1;33m=\u001b[0m\u001b[1;33m(\u001b[0m\u001b[1;34m\"executor_type\"\u001b[0m\u001b[1;33m,\u001b[0m \u001b[0mexecutor_type\u001b[0m\u001b[1;33m,\u001b[0m \u001b[1;34m\"config_proto\"\u001b[0m\u001b[1;33m,\u001b[0m \u001b[0mconfig\u001b[0m\u001b[1;33m)\u001b[0m\u001b[1;33m,\u001b[0m\u001b[1;33m\u001b[0m\u001b[1;33m\u001b[0m\u001b[0m\n\u001b[1;32m--> 545\u001b[1;33m               ctx=ctx)\n\u001b[0m\u001b[0;32m    546\u001b[0m         \u001b[1;32melse\u001b[0m\u001b[1;33m:\u001b[0m\u001b[1;33m\u001b[0m\u001b[1;33m\u001b[0m\u001b[0m\n\u001b[0;32m    547\u001b[0m           outputs = execute.execute_with_cancellation(\n",
      "\u001b[1;32m~\\AppData\\Local\\Continuum\\anaconda3\\envs\\algolux\\lib\\site-packages\\tensorflow_core\\python\\eager\\execute.py\u001b[0m in \u001b[0;36mquick_execute\u001b[1;34m(op_name, num_outputs, inputs, attrs, ctx, name)\u001b[0m\n\u001b[0;32m     59\u001b[0m     tensors = pywrap_tensorflow.TFE_Py_Execute(ctx._handle, device_name,\n\u001b[0;32m     60\u001b[0m                                                \u001b[0mop_name\u001b[0m\u001b[1;33m,\u001b[0m \u001b[0minputs\u001b[0m\u001b[1;33m,\u001b[0m \u001b[0mattrs\u001b[0m\u001b[1;33m,\u001b[0m\u001b[1;33m\u001b[0m\u001b[1;33m\u001b[0m\u001b[0m\n\u001b[1;32m---> 61\u001b[1;33m                                                num_outputs)\n\u001b[0m\u001b[0;32m     62\u001b[0m   \u001b[1;32mexcept\u001b[0m \u001b[0mcore\u001b[0m\u001b[1;33m.\u001b[0m\u001b[0m_NotOkStatusException\u001b[0m \u001b[1;32mas\u001b[0m \u001b[0me\u001b[0m\u001b[1;33m:\u001b[0m\u001b[1;33m\u001b[0m\u001b[1;33m\u001b[0m\u001b[0m\n\u001b[0;32m     63\u001b[0m     \u001b[1;32mif\u001b[0m \u001b[0mname\u001b[0m \u001b[1;32mis\u001b[0m \u001b[1;32mnot\u001b[0m \u001b[1;32mNone\u001b[0m\u001b[1;33m:\u001b[0m\u001b[1;33m\u001b[0m\u001b[1;33m\u001b[0m\u001b[0m\n",
      "\u001b[1;31mKeyboardInterrupt\u001b[0m: "
     ]
    }
   ],
   "source": [
    "multiscale_vae.train(     \n",
    "    x_train, \n",
    "    batch_size = BATCH_SIZE, \n",
    "    epochs = EPOCHS, \n",
    "    run_folder = RUN_FOLDER, \n",
    "    print_every_n_batches = PRINT_EVERY_N_BATCHES, \n",
    "    initial_epoch = INITIAL_EPOCH,\n",
    "    step_size=10,\n",
    "    lr_decay=0.9\n",
    ")"
   ]
  },
  {
   "cell_type": "code",
   "execution_count": 12,
   "metadata": {},
   "outputs": [],
   "source": [
    "results = multiscale_vae.model_predict.predict(x_train[0:1,:,:,:])"
   ]
  },
  {
   "cell_type": "code",
   "execution_count": 20,
   "metadata": {},
   "outputs": [
    {
     "data": {
      "image/png": "[encoded data removed]",
      "text/plain": [
       "<Figure size 1080x1080 with 2 Axes>"
      ]
     },
     "metadata": {
      "needs_background": "light"
     },
     "output_type": "display_data"
    }
   ],
   "source": [
    "fig, axs = plt.subplots(5, 2, figsize=(15,15))\n",
    "plt.subplot(1,2,1)\n",
    "plt.xlabel(\"original\")\n",
    "plt.imshow(x_train[0,:,:,:])\n",
    "plt.subplot(1,2,2)\n",
    "plt.imshow(results[0,:,:,:])\n",
    "plt.xlabel(\"recovery\")\n",
    "plt.show() "
   ]
  },
  {
   "cell_type": "code",
   "execution_count": null,
   "metadata": {},
   "outputs": [],
   "source": []
  },
  {
   "cell_type": "code",
   "execution_count": null,
   "metadata": {},
   "outputs": [],
   "source": []
  }
 ],
 "metadata": {
  "kernelspec": {
   "display_name": "Python 3",
   "language": "python",
   "name": "python3"
  },
  "language_info": {
   "codemirror_mode": {
    "name": "ipython",
    "version": 3
   },
   "file_extension": ".py",
   "mimetype": "text/x-python",
   "name": "python",
   "nbconvert_exporter": "python",
   "pygments_lexer": "ipython3",
   "version": "3.7.7"
  }
 },
 "nbformat": 4,
 "nbformat_minor": 4
}
