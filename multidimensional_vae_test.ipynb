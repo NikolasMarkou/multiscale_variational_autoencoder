{
 "cells": [
  {
   "cell_type": "code",
   "execution_count": 1,
   "metadata": {},
   "outputs": [
    {
     "name": "stderr",
     "output_type": "stream",
     "text": [
      "Using TensorFlow backend.\n"
     ]
    }
   ],
   "source": [
    "import os\n",
    "\n",
    "os.environ[\"CUDA_VISIBLE_DEVICES\"]=\"0\"\n",
    "\n",
    "import numpy as np\n",
    "import matplotlib.pyplot as plt\n",
    "from keras.datasets import cifar10\n",
    "from models.multiscale_vae import MultiscaleVariationalAutoencoder\n",
    "\n",
    "import utils\n",
    "import utils.transform"
   ]
  },
  {
   "cell_type": "code",
   "execution_count": 2,
   "metadata": {},
   "outputs": [],
   "source": [
    "# run params\n",
    "SECTION = \"vae\"\n",
    "RUN_ID = \"0002\"\n",
    "DATA_NAME = \"digits\"\n",
    "BASE_DIR= \"./run\"\n",
    "BASE_DIR_SECTION = \"{0}/{1}/\".format(BASE_DIR, SECTION)\n",
    "RUN_FOLDER = BASE_DIR_SECTION + \"_\".join([RUN_ID, DATA_NAME])\n",
    "\n",
    "if not os.path.exists(BASE_DIR):\n",
    "    os.mkdir(BASE_DIR)\n",
    "    \n",
    "if not os.path.exists(BASE_DIR_SECTION):\n",
    "    os.mkdir(BASE_DIR_SECTION)\n",
    "    \n",
    "if not os.path.exists(RUN_FOLDER):\n",
    "    os.mkdir(RUN_FOLDER)\n",
    "    os.mkdir(os.path.join(RUN_FOLDER, \"viz\"))\n",
    "    os.mkdir(os.path.join(RUN_FOLDER, \"images\"))\n",
    "    os.mkdir(os.path.join(RUN_FOLDER, \"weights\"))\n",
    "\n",
    "mode = \"build\""
   ]
  },
  {
   "cell_type": "code",
   "execution_count": 3,
   "metadata": {},
   "outputs": [],
   "source": [
    "(x_train, y_train), (x_test, y_test) = cifar10.load_data()\n",
    "x_train = x_train.astype(\"float32\") / 255.0\n",
    "x_test = x_test.astype(\"float32\") / 255.0"
   ]
  },
  {
   "cell_type": "code",
   "execution_count": 4,
   "metadata": {},
   "outputs": [
    {
     "data": {
      "image/png": "[encoded data removed]",
      "text/plain": [
       "<Figure size 432x288 with 1 Axes>"
      ]
     },
     "metadata": {
      "needs_background": "light"
     },
     "output_type": "display_data"
    }
   ],
   "source": [
    "# Display original\n",
    "plt.figure()\n",
    "plt.imshow(x_train[0,:,:,:]) \n",
    "plt.show()  "
   ]
  },
  {
   "cell_type": "code",
   "execution_count": 5,
   "metadata": {},
   "outputs": [
    {
     "name": "stdout",
     "output_type": "stream",
     "text": [
      "WARNING:tensorflow:From /home/arxwn/.conda/envs/monochain/lib/python3.7/site-packages/keras/backend/tensorflow_backend.py:517: The name tf.placeholder is deprecated. Please use tf.compat.v1.placeholder instead.\n",
      "\n"
     ]
    },
    {
     "name": "stderr",
     "output_type": "stream",
     "text": [
      "2020-05-09 12:17:58,418 tensorflow   WARNING From /home/arxwn/.conda/envs/monochain/lib/python3.7/site-packages/keras/backend/tensorflow_backend.py:517: The name tf.placeholder is deprecated. Please use tf.compat.v1.placeholder instead.\n",
      "\n"
     ]
    },
    {
     "name": "stdout",
     "output_type": "stream",
     "text": [
      "WARNING:tensorflow:From /home/arxwn/.conda/envs/monochain/lib/python3.7/site-packages/keras/backend/tensorflow_backend.py:3976: The name tf.nn.max_pool is deprecated. Please use tf.nn.max_pool2d instead.\n",
      "\n"
     ]
    },
    {
     "name": "stderr",
     "output_type": "stream",
     "text": [
      "2020-05-09 12:17:58,424 tensorflow   WARNING From /home/arxwn/.conda/envs/monochain/lib/python3.7/site-packages/keras/backend/tensorflow_backend.py:3976: The name tf.nn.max_pool is deprecated. Please use tf.nn.max_pool2d instead.\n",
      "\n"
     ]
    },
    {
     "name": "stdout",
     "output_type": "stream",
     "text": [
      "WARNING:tensorflow:From /home/arxwn/.conda/envs/monochain/lib/python3.7/site-packages/keras/backend/tensorflow_backend.py:74: The name tf.get_default_graph is deprecated. Please use tf.compat.v1.get_default_graph instead.\n",
      "\n"
     ]
    },
    {
     "name": "stderr",
     "output_type": "stream",
     "text": [
      "2020-05-09 12:17:58,433 tensorflow   WARNING From /home/arxwn/.conda/envs/monochain/lib/python3.7/site-packages/keras/backend/tensorflow_backend.py:74: The name tf.get_default_graph is deprecated. Please use tf.compat.v1.get_default_graph instead.\n",
      "\n"
     ]
    },
    {
     "name": "stdout",
     "output_type": "stream",
     "text": [
      "WARNING:tensorflow:From /home/arxwn/.conda/envs/monochain/lib/python3.7/site-packages/keras/backend/tensorflow_backend.py:133: The name tf.placeholder_with_default is deprecated. Please use tf.compat.v1.placeholder_with_default instead.\n",
      "\n"
     ]
    },
    {
     "name": "stderr",
     "output_type": "stream",
     "text": [
      "2020-05-09 12:17:58,434 tensorflow   WARNING From /home/arxwn/.conda/envs/monochain/lib/python3.7/site-packages/keras/backend/tensorflow_backend.py:133: The name tf.placeholder_with_default is deprecated. Please use tf.compat.v1.placeholder_with_default instead.\n",
      "\n"
     ]
    },
    {
     "name": "stdout",
     "output_type": "stream",
     "text": [
      "WARNING:tensorflow:From /home/arxwn/.conda/envs/monochain/lib/python3.7/site-packages/keras/backend/tensorflow_backend.py:4115: The name tf.random_normal is deprecated. Please use tf.random.normal instead.\n",
      "\n"
     ]
    },
    {
     "name": "stderr",
     "output_type": "stream",
     "text": [
      "2020-05-09 12:17:58,514 tensorflow   WARNING From /home/arxwn/.conda/envs/monochain/lib/python3.7/site-packages/keras/backend/tensorflow_backend.py:4115: The name tf.random_normal is deprecated. Please use tf.random.normal instead.\n",
      "\n"
     ]
    },
    {
     "name": "stdout",
     "output_type": "stream",
     "text": [
      "WARNING:tensorflow:From /home/arxwn/.conda/envs/monochain/lib/python3.7/site-packages/keras/backend/tensorflow_backend.py:4138: The name tf.random_uniform is deprecated. Please use tf.random.uniform instead.\n",
      "\n"
     ]
    },
    {
     "name": "stderr",
     "output_type": "stream",
     "text": [
      "2020-05-09 12:17:58,537 tensorflow   WARNING From /home/arxwn/.conda/envs/monochain/lib/python3.7/site-packages/keras/backend/tensorflow_backend.py:4138: The name tf.random_uniform is deprecated. Please use tf.random.uniform instead.\n",
      "\n"
     ]
    },
    {
     "name": "stdout",
     "output_type": "stream",
     "text": [
      "WARNING:tensorflow:From /home/arxwn/.conda/envs/monochain/lib/python3.7/site-packages/keras/backend/tensorflow_backend.py:174: The name tf.get_default_session is deprecated. Please use tf.compat.v1.get_default_session instead.\n",
      "\n"
     ]
    },
    {
     "name": "stderr",
     "output_type": "stream",
     "text": [
      "2020-05-09 12:17:58,572 tensorflow   WARNING From /home/arxwn/.conda/envs/monochain/lib/python3.7/site-packages/keras/backend/tensorflow_backend.py:174: The name tf.get_default_session is deprecated. Please use tf.compat.v1.get_default_session instead.\n",
      "\n"
     ]
    },
    {
     "name": "stdout",
     "output_type": "stream",
     "text": [
      "WARNING:tensorflow:From /home/arxwn/.conda/envs/monochain/lib/python3.7/site-packages/keras/backend/tensorflow_backend.py:181: The name tf.ConfigProto is deprecated. Please use tf.compat.v1.ConfigProto instead.\n",
      "\n"
     ]
    },
    {
     "name": "stderr",
     "output_type": "stream",
     "text": [
      "2020-05-09 12:17:58,573 tensorflow   WARNING From /home/arxwn/.conda/envs/monochain/lib/python3.7/site-packages/keras/backend/tensorflow_backend.py:181: The name tf.ConfigProto is deprecated. Please use tf.compat.v1.ConfigProto instead.\n",
      "\n"
     ]
    },
    {
     "name": "stdout",
     "output_type": "stream",
     "text": [
      "WARNING:tensorflow:From /home/arxwn/.conda/envs/monochain/lib/python3.7/site-packages/keras/backend/tensorflow_backend.py:186: The name tf.Session is deprecated. Please use tf.compat.v1.Session instead.\n",
      "\n"
     ]
    },
    {
     "name": "stderr",
     "output_type": "stream",
     "text": [
      "2020-05-09 12:17:58,574 tensorflow   WARNING From /home/arxwn/.conda/envs/monochain/lib/python3.7/site-packages/keras/backend/tensorflow_backend.py:186: The name tf.Session is deprecated. Please use tf.compat.v1.Session instead.\n",
      "\n"
     ]
    },
    {
     "name": "stdout",
     "output_type": "stream",
     "text": [
      "WARNING:tensorflow:From /home/arxwn/.conda/envs/monochain/lib/python3.7/site-packages/keras/backend/tensorflow_backend.py:190: The name tf.global_variables is deprecated. Please use tf.compat.v1.global_variables instead.\n",
      "\n"
     ]
    },
    {
     "name": "stderr",
     "output_type": "stream",
     "text": [
      "2020-05-09 12:17:58,761 tensorflow   WARNING From /home/arxwn/.conda/envs/monochain/lib/python3.7/site-packages/keras/backend/tensorflow_backend.py:190: The name tf.global_variables is deprecated. Please use tf.compat.v1.global_variables instead.\n",
      "\n"
     ]
    },
    {
     "name": "stdout",
     "output_type": "stream",
     "text": [
      "WARNING:tensorflow:From /home/arxwn/.conda/envs/monochain/lib/python3.7/site-packages/keras/backend/tensorflow_backend.py:199: The name tf.is_variable_initialized is deprecated. Please use tf.compat.v1.is_variable_initialized instead.\n",
      "\n"
     ]
    },
    {
     "name": "stderr",
     "output_type": "stream",
     "text": [
      "2020-05-09 12:17:58,763 tensorflow   WARNING From /home/arxwn/.conda/envs/monochain/lib/python3.7/site-packages/keras/backend/tensorflow_backend.py:199: The name tf.is_variable_initialized is deprecated. Please use tf.compat.v1.is_variable_initialized instead.\n",
      "\n"
     ]
    },
    {
     "name": "stdout",
     "output_type": "stream",
     "text": [
      "WARNING:tensorflow:From /home/arxwn/.conda/envs/monochain/lib/python3.7/site-packages/keras/backend/tensorflow_backend.py:206: The name tf.variables_initializer is deprecated. Please use tf.compat.v1.variables_initializer instead.\n",
      "\n"
     ]
    },
    {
     "name": "stderr",
     "output_type": "stream",
     "text": [
      "2020-05-09 12:17:58,903 tensorflow   WARNING From /home/arxwn/.conda/envs/monochain/lib/python3.7/site-packages/keras/backend/tensorflow_backend.py:206: The name tf.variables_initializer is deprecated. Please use tf.compat.v1.variables_initializer instead.\n",
      "\n"
     ]
    },
    {
     "name": "stdout",
     "output_type": "stream",
     "text": [
      "WARNING:tensorflow:From /home/arxwn/.conda/envs/monochain/lib/python3.7/site-packages/keras/backend/tensorflow_backend.py:1834: The name tf.nn.fused_batch_norm is deprecated. Please use tf.compat.v1.nn.fused_batch_norm instead.\n",
      "\n"
     ]
    },
    {
     "name": "stderr",
     "output_type": "stream",
     "text": [
      "2020-05-09 12:17:59,248 tensorflow   WARNING From /home/arxwn/.conda/envs/monochain/lib/python3.7/site-packages/keras/backend/tensorflow_backend.py:1834: The name tf.nn.fused_batch_norm is deprecated. Please use tf.compat.v1.nn.fused_batch_norm instead.\n",
      "\n"
     ]
    },
    {
     "name": "stdout",
     "output_type": "stream",
     "text": [
      "WARNING:tensorflow:From /home/arxwn/.conda/envs/monochain/lib/python3.7/site-packages/keras/backend/tensorflow_backend.py:3445: calling dropout (from tensorflow.python.ops.nn_ops) with keep_prob is deprecated and will be removed in a future version.\n",
      "Instructions for updating:\n",
      "Please use `rate` instead of `keep_prob`. Rate should be set to `rate = 1 - keep_prob`.\n"
     ]
    },
    {
     "name": "stderr",
     "output_type": "stream",
     "text": [
      "2020-05-09 12:17:59,303 tensorflow   WARNING From /home/arxwn/.conda/envs/monochain/lib/python3.7/site-packages/keras/backend/tensorflow_backend.py:3445: calling dropout (from tensorflow.python.ops.nn_ops) with keep_prob is deprecated and will be removed in a future version.\n",
      "Instructions for updating:\n",
      "Please use `rate` instead of `keep_prob`. Rate should be set to `rate = 1 - keep_prob`.\n"
     ]
    },
    {
     "name": "stdout",
     "output_type": "stream",
     "text": [
      "WARNING:tensorflow:From /home/arxwn/.conda/envs/monochain/lib/python3.7/site-packages/keras/backend/tensorflow_backend.py:2020: The name tf.image.resize_bilinear is deprecated. Please use tf.compat.v1.image.resize_bilinear instead.\n",
      "\n"
     ]
    },
    {
     "name": "stderr",
     "output_type": "stream",
     "text": [
      "2020-05-09 12:17:59,835 tensorflow   WARNING From /home/arxwn/.conda/envs/monochain/lib/python3.7/site-packages/keras/backend/tensorflow_backend.py:2020: The name tf.image.resize_bilinear is deprecated. Please use tf.compat.v1.image.resize_bilinear instead.\n",
      "\n"
     ]
    }
   ],
   "source": [
    "multiscale_vae = MultiscaleVariationalAutoencoder(\n",
    "    input_dims=(32,32,3), \n",
    "    levels=3, \n",
    "    z_dims=[64, 128, 256])"
   ]
  },
  {
   "cell_type": "code",
   "execution_count": 6,
   "metadata": {},
   "outputs": [],
   "source": [
    "LEARNING_RATE = 0.001\n",
    "R_LOSS_FACTOR = 1000\n",
    "KL_LOSS_FACTOR = 10"
   ]
  },
  {
   "cell_type": "code",
   "execution_count": 7,
   "metadata": {},
   "outputs": [
    {
     "name": "stdout",
     "output_type": "stream",
     "text": [
      "WARNING:tensorflow:From /home/arxwn/.conda/envs/monochain/lib/python3.7/site-packages/keras/optimizers.py:790: The name tf.train.Optimizer is deprecated. Please use tf.compat.v1.train.Optimizer instead.\n",
      "\n"
     ]
    },
    {
     "name": "stderr",
     "output_type": "stream",
     "text": [
      "2020-05-09 12:18:01,078 tensorflow   WARNING From /home/arxwn/.conda/envs/monochain/lib/python3.7/site-packages/keras/optimizers.py:790: The name tf.train.Optimizer is deprecated. Please use tf.compat.v1.train.Optimizer instead.\n",
      "\n"
     ]
    }
   ],
   "source": [
    "multiscale_vae.compile(\n",
    "    learning_rate=LEARNING_RATE, \n",
    "    r_loss_factor=R_LOSS_FACTOR,\n",
    "    kl_loss_factor=KL_LOSS_FACTOR\n",
    ")"
   ]
  },
  {
   "cell_type": "code",
   "execution_count": 8,
   "metadata": {},
   "outputs": [],
   "source": [
    "EPOCHS = 100\n",
    "BATCH_SIZE = 32\n",
    "PRINT_EVERY_N_BATCHES = 1000\n",
    "INITIAL_EPOCH = 0"
   ]
  },
  {
   "cell_type": "code",
   "execution_count": 9,
   "metadata": {},
   "outputs": [],
   "source": [
    "# serialize model to JSON\n",
    "model_json = multiscale_vae.model_predict.to_json()\n",
    "with open(\"model_predict.json\", \"w\") as json_file:\n",
    "    json_file.write(model_json)"
   ]
  },
  {
   "cell_type": "code",
   "execution_count": null,
   "metadata": {
    "scrolled": true
   },
   "outputs": [
    {
     "name": "stdout",
     "output_type": "stream",
     "text": [
      "WARNING:tensorflow:From /home/arxwn/.conda/envs/monochain/lib/python3.7/site-packages/tensorflow_core/python/ops/math_grad.py:1424: where (from tensorflow.python.ops.array_ops) is deprecated and will be removed in a future version.\n",
      "Instructions for updating:\n",
      "Use tf.where in 2.0, which has the same broadcast rule as np.where\n"
     ]
    },
    {
     "name": "stderr",
     "output_type": "stream",
     "text": [
      "2020-05-09 12:18:10,778 tensorflow   WARNING From /home/arxwn/.conda/envs/monochain/lib/python3.7/site-packages/tensorflow_core/python/ops/math_grad.py:1424: where (from tensorflow.python.ops.array_ops) is deprecated and will be removed in a future version.\n",
      "Instructions for updating:\n",
      "Use tf.where in 2.0, which has the same broadcast rule as np.where\n"
     ]
    },
    {
     "name": "stdout",
     "output_type": "stream",
     "text": [
      "WARNING:tensorflow:From /home/arxwn/.conda/envs/monochain/lib/python3.7/site-packages/keras/backend/tensorflow_backend.py:986: The name tf.assign_add is deprecated. Please use tf.compat.v1.assign_add instead.\n",
      "\n"
     ]
    },
    {
     "name": "stderr",
     "output_type": "stream",
     "text": [
      "2020-05-09 12:18:13,622 tensorflow   WARNING From /home/arxwn/.conda/envs/monochain/lib/python3.7/site-packages/keras/backend/tensorflow_backend.py:986: The name tf.assign_add is deprecated. Please use tf.compat.v1.assign_add instead.\n",
      "\n"
     ]
    },
    {
     "name": "stdout",
     "output_type": "stream",
     "text": [
      "WARNING:tensorflow:From /home/arxwn/.conda/envs/monochain/lib/python3.7/site-packages/keras/backend/tensorflow_backend.py:973: The name tf.assign is deprecated. Please use tf.compat.v1.assign instead.\n",
      "\n"
     ]
    },
    {
     "name": "stderr",
     "output_type": "stream",
     "text": [
      "2020-05-09 12:18:13,626 tensorflow   WARNING From /home/arxwn/.conda/envs/monochain/lib/python3.7/site-packages/keras/backend/tensorflow_backend.py:973: The name tf.assign is deprecated. Please use tf.compat.v1.assign instead.\n",
      "\n"
     ]
    },
    {
     "name": "stdout",
     "output_type": "stream",
     "text": [
      "Epoch 1/100\n",
      "  128/50000 [..............................] - ETA: 1:16:11 - loss: 423.0104 - activation_1_loss: 14.7007 - activation_2_loss: 63.1794 - activation_3_loss: 345.1303 - activation_1_vae_r_loss: 14.7007 - activation_2_vae_r_loss: 63.1794 - activation_3_vae_r_loss: 345.1303"
     ]
    },
    {
     "name": "stderr",
     "output_type": "stream",
     "text": [
      "/home/arxwn/.conda/envs/monochain/lib/python3.7/site-packages/keras/callbacks.py:122: UserWarning: Method on_batch_end() is slow compared to the batch update (0.469115). Check your callbacks.\n",
      "  % delta_t_median)\n"
     ]
    },
    {
     "name": "stdout",
     "output_type": "stream",
     "text": [
      "50000/50000 [==============================] - 145s 3ms/step - loss: 116.1599 - activation_1_loss: 7.4122 - activation_2_loss: 24.7323 - activation_3_loss: 84.0154 - activation_1_vae_r_loss: 7.4122 - activation_2_vae_r_loss: 24.7323 - activation_3_vae_r_loss: 84.0154\n",
      "\n",
      "Epoch 00001: saving model to ./run/vae/0002_digits/weights/weights-001-116.16.h5\n",
      "\n",
      "Epoch 00001: saving model to ./run/vae/0002_digits/weights/weights.h5\n",
      "Epoch 2/100\n",
      "50000/50000 [==============================] - 134s 3ms/step - loss: 88.1315 - activation_1_loss: 6.2002 - activation_2_loss: 20.1817 - activation_3_loss: 61.7495 - activation_1_vae_r_loss: 6.2002 - activation_2_vae_r_loss: 20.1817 - activation_3_vae_r_loss: 61.7495\n",
      "\n",
      "Epoch 00002: saving model to ./run/vae/0002_digits/weights/weights-002-88.13.h5\n",
      "\n",
      "Epoch 00002: saving model to ./run/vae/0002_digits/weights/weights.h5\n",
      "Epoch 3/100\n",
      "50000/50000 [==============================] - 134s 3ms/step - loss: 81.2313 - activation_1_loss: 5.8124 - activation_2_loss: 18.7244 - activation_3_loss: 56.6945 - activation_1_vae_r_loss: 5.8124 - activation_2_vae_r_loss: 18.7244 - activation_3_vae_r_loss: 56.6945\n",
      "\n",
      "Epoch 00003: saving model to ./run/vae/0002_digits/weights/weights-003-81.23.h5\n",
      "\n",
      "Epoch 00003: saving model to ./run/vae/0002_digits/weights/weights.h5\n",
      "Epoch 4/100\n",
      "50000/50000 [==============================] - 134s 3ms/step - loss: 77.3381 - activation_1_loss: 5.5897 - activation_2_loss: 17.7909 - activation_3_loss: 53.9576 - activation_1_vae_r_loss: 5.5897 - activation_2_vae_r_loss: 17.7909 - activation_3_vae_r_loss: 53.9576\n",
      "\n",
      "Epoch 00004: saving model to ./run/vae/0002_digits/weights/weights-004-77.34.h5\n",
      "\n",
      "Epoch 00004: saving model to ./run/vae/0002_digits/weights/weights.h5\n",
      "Epoch 5/100\n",
      "50000/50000 [==============================] - 134s 3ms/step - loss: 74.5991 - activation_1_loss: 5.4108 - activation_2_loss: 17.0192 - activation_3_loss: 52.1691 - activation_1_vae_r_loss: 5.4108 - activation_2_vae_r_loss: 17.0192 - activation_3_vae_r_loss: 52.1691\n",
      "\n",
      "Epoch 00005: saving model to ./run/vae/0002_digits/weights/weights-005-74.60.h5\n",
      "\n",
      "Epoch 00005: saving model to ./run/vae/0002_digits/weights/weights.h5\n",
      "Epoch 6/100\n",
      "50000/50000 [==============================] - 134s 3ms/step - loss: 72.5885 - activation_1_loss: 5.2891 - activation_2_loss: 16.4635 - activation_3_loss: 50.8359 - activation_1_vae_r_loss: 5.2891 - activation_2_vae_r_loss: 16.4635 - activation_3_vae_r_loss: 50.8359\n",
      "\n",
      "Epoch 00006: saving model to ./run/vae/0002_digits/weights/weights-006-72.59.h5\n",
      "\n",
      "Epoch 00006: saving model to ./run/vae/0002_digits/weights/weights.h5\n",
      "Epoch 7/100\n",
      "50000/50000 [==============================] - 134s 3ms/step - loss: 71.1399 - activation_1_loss: 5.1903 - activation_2_loss: 16.0456 - activation_3_loss: 49.9040 - activation_1_vae_r_loss: 5.1903 - activation_2_vae_r_loss: 16.0456 - activation_3_vae_r_loss: 49.9040\n",
      "\n",
      "Epoch 00007: saving model to ./run/vae/0002_digits/weights/weights-007-71.14.h5\n",
      "\n",
      "Epoch 00007: saving model to ./run/vae/0002_digits/weights/weights.h5\n",
      "Epoch 8/100\n",
      "50000/50000 [==============================] - 134s 3ms/step - loss: 69.8972 - activation_1_loss: 5.0983 - activation_2_loss: 15.6955 - activation_3_loss: 49.1034 - activation_1_vae_r_loss: 5.0983 - activation_2_vae_r_loss: 15.6955 - activation_3_vae_r_loss: 49.1034\n",
      "\n",
      "Epoch 00008: saving model to ./run/vae/0002_digits/weights/weights-008-69.90.h5\n",
      "\n",
      "Epoch 00008: saving model to ./run/vae/0002_digits/weights/weights.h5\n",
      "Epoch 9/100\n",
      "50000/50000 [==============================] - 134s 3ms/step - loss: 68.8259 - activation_1_loss: 5.0144 - activation_2_loss: 15.3933 - activation_3_loss: 48.4182 - activation_1_vae_r_loss: 5.0144 - activation_2_vae_r_loss: 15.3933 - activation_3_vae_r_loss: 48.4182\n",
      "\n",
      "Epoch 00009: saving model to ./run/vae/0002_digits/weights/weights-009-68.83.h5\n",
      "\n",
      "Epoch 00009: saving model to ./run/vae/0002_digits/weights/weights.h5\n",
      "Epoch 10/100\n",
      "50000/50000 [==============================] - 134s 3ms/step - loss: 67.9691 - activation_1_loss: 4.9309 - activation_2_loss: 15.1388 - activation_3_loss: 47.8994 - activation_1_vae_r_loss: 4.9309 - activation_2_vae_r_loss: 15.1388 - activation_3_vae_r_loss: 47.8994\n",
      "\n",
      "Epoch 00010: saving model to ./run/vae/0002_digits/weights/weights-010-67.97.h5\n",
      "\n",
      "Epoch 00010: saving model to ./run/vae/0002_digits/weights/weights.h5\n",
      "Epoch 11/100\n",
      "50000/50000 [==============================] - 134s 3ms/step - loss: 67.2578 - activation_1_loss: 4.8771 - activation_2_loss: 14.9327 - activation_3_loss: 47.4479 - activation_1_vae_r_loss: 4.8771 - activation_2_vae_r_loss: 14.9327 - activation_3_vae_r_loss: 47.4479\n",
      "\n",
      "Epoch 00011: saving model to ./run/vae/0002_digits/weights/weights-011-67.26.h5\n",
      "\n",
      "Epoch 00011: saving model to ./run/vae/0002_digits/weights/weights.h5\n",
      "Epoch 12/100\n",
      "50000/50000 [==============================] - 134s 3ms/step - loss: 66.6195 - activation_1_loss: 4.8122 - activation_2_loss: 14.7397 - activation_3_loss: 47.0677 - activation_1_vae_r_loss: 4.8122 - activation_2_vae_r_loss: 14.7397 - activation_3_vae_r_loss: 47.0677\n",
      "\n",
      "Epoch 00012: saving model to ./run/vae/0002_digits/weights/weights-012-66.62.h5\n",
      "\n",
      "Epoch 00012: saving model to ./run/vae/0002_digits/weights/weights.h5\n",
      "Epoch 13/100\n",
      "50000/50000 [==============================] - 134s 3ms/step - loss: 66.0483 - activation_1_loss: 4.7543 - activation_2_loss: 14.5708 - activation_3_loss: 46.7232 - activation_1_vae_r_loss: 4.7543 - activation_2_vae_r_loss: 14.5708 - activation_3_vae_r_loss: 46.7232\n",
      "\n",
      "Epoch 00013: saving model to ./run/vae/0002_digits/weights/weights-013-66.05.h5\n",
      "\n",
      "Epoch 00013: saving model to ./run/vae/0002_digits/weights/weights.h5\n",
      "Epoch 14/100\n",
      "50000/50000 [==============================] - 134s 3ms/step - loss: 65.5322 - activation_1_loss: 4.7033 - activation_2_loss: 14.4159 - activation_3_loss: 46.4130 - activation_1_vae_r_loss: 4.7033 - activation_2_vae_r_loss: 14.4159 - activation_3_vae_r_loss: 46.4130\n",
      "\n",
      "Epoch 00014: saving model to ./run/vae/0002_digits/weights/weights-014-65.53.h5\n",
      "\n",
      "Epoch 00014: saving model to ./run/vae/0002_digits/weights/weights.h5\n",
      "Epoch 15/100\n",
      "50000/50000 [==============================] - 134s 3ms/step - loss: 64.9936 - activation_1_loss: 4.6521 - activation_2_loss: 14.2653 - activation_3_loss: 46.0762 - activation_1_vae_r_loss: 4.6521 - activation_2_vae_r_loss: 14.2653 - activation_3_vae_r_loss: 46.0762\n",
      "\n",
      "Epoch 00015: saving model to ./run/vae/0002_digits/weights/weights-015-64.99.h5\n",
      "\n",
      "Epoch 00015: saving model to ./run/vae/0002_digits/weights/weights.h5\n",
      "Epoch 16/100\n",
      "50000/50000 [==============================] - 134s 3ms/step - loss: 64.4792 - activation_1_loss: 4.6077 - activation_2_loss: 14.1331 - activation_3_loss: 45.7384 - activation_1_vae_r_loss: 4.6077 - activation_2_vae_r_loss: 14.1331 - activation_3_vae_r_loss: 45.7384\n",
      "\n",
      "Epoch 00016: saving model to ./run/vae/0002_digits/weights/weights-016-64.48.h5\n",
      "\n",
      "Epoch 00016: saving model to ./run/vae/0002_digits/weights/weights.h5\n",
      "Epoch 17/100\n",
      "50000/50000 [==============================] - 134s 3ms/step - loss: 64.1004 - activation_1_loss: 4.5572 - activation_2_loss: 14.0103 - activation_3_loss: 45.5329 - activation_1_vae_r_loss: 4.5572 - activation_2_vae_r_loss: 14.0103 - activation_3_vae_r_loss: 45.5329\n",
      "\n",
      "Epoch 00017: saving model to ./run/vae/0002_digits/weights/weights-017-64.10.h5\n",
      "\n",
      "Epoch 00017: saving model to ./run/vae/0002_digits/weights/weights.h5\n",
      "Epoch 18/100\n",
      "50000/50000 [==============================] - 134s 3ms/step - loss: 63.7935 - activation_1_loss: 4.5314 - activation_2_loss: 13.9199 - activation_3_loss: 45.3422 - activation_1_vae_r_loss: 4.5314 - activation_2_vae_r_loss: 13.9199 - activation_3_vae_r_loss: 45.3422\n",
      "\n",
      "Epoch 00018: saving model to ./run/vae/0002_digits/weights/weights-018-63.79.h5\n",
      "\n",
      "Epoch 00018: saving model to ./run/vae/0002_digits/weights/weights.h5\n",
      "Epoch 19/100\n",
      "50000/50000 [==============================] - 134s 3ms/step - loss: 63.3637 - activation_1_loss: 4.4854 - activation_2_loss: 13.8092 - activation_3_loss: 45.0691 - activation_1_vae_r_loss: 4.4854 - activation_2_vae_r_loss: 13.8092 - activation_3_vae_r_loss: 45.0691\n",
      "\n",
      "Epoch 00019: saving model to ./run/vae/0002_digits/weights/weights-019-63.36.h5\n",
      "\n",
      "Epoch 00019: saving model to ./run/vae/0002_digits/weights/weights.h5\n",
      "Epoch 20/100\n"
     ]
    },
    {
     "name": "stdout",
     "output_type": "stream",
     "text": [
      "50000/50000 [==============================] - 134s 3ms/step - loss: 63.0243 - activation_1_loss: 4.4511 - activation_2_loss: 13.7182 - activation_3_loss: 44.8549 - activation_1_vae_r_loss: 4.4511 - activation_2_vae_r_loss: 13.7182 - activation_3_vae_r_loss: 44.8549\n",
      "\n",
      "Epoch 00020: saving model to ./run/vae/0002_digits/weights/weights-020-63.02.h5\n",
      "\n",
      "Epoch 00020: saving model to ./run/vae/0002_digits/weights/weights.h5\n",
      "Epoch 21/100\n",
      "50000/50000 [==============================] - 134s 3ms/step - loss: 62.7495 - activation_1_loss: 4.4248 - activation_2_loss: 13.6533 - activation_3_loss: 44.6714 - activation_1_vae_r_loss: 4.4248 - activation_2_vae_r_loss: 13.6533 - activation_3_vae_r_loss: 44.6714\n",
      "\n",
      "Epoch 00021: saving model to ./run/vae/0002_digits/weights/weights-021-62.75.h5\n",
      "\n",
      "Epoch 00021: saving model to ./run/vae/0002_digits/weights/weights.h5\n",
      "Epoch 22/100\n",
      "50000/50000 [==============================] - 134s 3ms/step - loss: 62.5625 - activation_1_loss: 4.4018 - activation_2_loss: 13.6026 - activation_3_loss: 44.5581 - activation_1_vae_r_loss: 4.4018 - activation_2_vae_r_loss: 13.6026 - activation_3_vae_r_loss: 44.5581\n",
      "\n",
      "Epoch 00022: saving model to ./run/vae/0002_digits/weights/weights-022-62.56.h5\n",
      "\n",
      "Epoch 00022: saving model to ./run/vae/0002_digits/weights/weights.h5\n",
      "Epoch 23/100\n",
      "50000/50000 [==============================] - 134s 3ms/step - loss: 62.3399 - activation_1_loss: 4.3901 - activation_2_loss: 13.5583 - activation_3_loss: 44.3914 - activation_1_vae_r_loss: 4.3901 - activation_2_vae_r_loss: 13.5583 - activation_3_vae_r_loss: 44.3914\n",
      "\n",
      "Epoch 00023: saving model to ./run/vae/0002_digits/weights/weights-023-62.34.h5\n",
      "\n",
      "Epoch 00023: saving model to ./run/vae/0002_digits/weights/weights.h5\n",
      "Epoch 24/100\n",
      "50000/50000 [==============================] - 134s 3ms/step - loss: 62.2667 - activation_1_loss: 4.3771 - activation_2_loss: 13.5213 - activation_3_loss: 44.3683 - activation_1_vae_r_loss: 4.3771 - activation_2_vae_r_loss: 13.5213 - activation_3_vae_r_loss: 44.3683\n",
      "\n",
      "Epoch 00024: saving model to ./run/vae/0002_digits/weights/weights-024-62.27.h5\n",
      "\n",
      "Epoch 00024: saving model to ./run/vae/0002_digits/weights/weights.h5\n",
      "Epoch 25/100\n",
      "50000/50000 [==============================] - 134s 3ms/step - loss: 62.1572 - activation_1_loss: 4.3697 - activation_2_loss: 13.5006 - activation_3_loss: 44.2869 - activation_1_vae_r_loss: 4.3697 - activation_2_vae_r_loss: 13.5006 - activation_3_vae_r_loss: 44.2869\n",
      "\n",
      "Epoch 00025: saving model to ./run/vae/0002_digits/weights/weights-025-62.16.h5\n",
      "\n",
      "Epoch 00025: saving model to ./run/vae/0002_digits/weights/weights.h5\n",
      "Epoch 26/100\n",
      "50000/50000 [==============================] - 134s 3ms/step - loss: 62.0684 - activation_1_loss: 4.3556 - activation_2_loss: 13.4802 - activation_3_loss: 44.2327 - activation_1_vae_r_loss: 4.3556 - activation_2_vae_r_loss: 13.4802 - activation_3_vae_r_loss: 44.2327\n",
      "\n",
      "Epoch 00026: saving model to ./run/vae/0002_digits/weights/weights-026-62.07.h5\n",
      "\n",
      "Epoch 00026: saving model to ./run/vae/0002_digits/weights/weights.h5\n",
      "Epoch 27/100\n",
      "50000/50000 [==============================] - 134s 3ms/step - loss: 61.9065 - activation_1_loss: 4.3439 - activation_2_loss: 13.4427 - activation_3_loss: 44.1198 - activation_1_vae_r_loss: 4.3439 - activation_2_vae_r_loss: 13.4427 - activation_3_vae_r_loss: 44.1198\n",
      "\n",
      "Epoch 00027: saving model to ./run/vae/0002_digits/weights/weights-027-61.91.h5\n",
      "\n",
      "Epoch 00027: saving model to ./run/vae/0002_digits/weights/weights.h5\n",
      "Epoch 28/100\n",
      "50000/50000 [==============================] - 134s 3ms/step - loss: 61.7554 - activation_1_loss: 4.3233 - activation_2_loss: 13.3845 - activation_3_loss: 44.0476 - activation_1_vae_r_loss: 4.3233 - activation_2_vae_r_loss: 13.3845 - activation_3_vae_r_loss: 44.0476\n",
      "\n",
      "Epoch 00028: saving model to ./run/vae/0002_digits/weights/weights-028-61.76.h5\n",
      "\n",
      "Epoch 00028: saving model to ./run/vae/0002_digits/weights/weights.h5\n",
      "Epoch 29/100\n",
      "50000/50000 [==============================] - 134s 3ms/step - loss: 61.7983 - activation_1_loss: 4.3208 - activation_2_loss: 13.3854 - activation_3_loss: 44.0921 - activation_1_vae_r_loss: 4.3208 - activation_2_vae_r_loss: 13.3854 - activation_3_vae_r_loss: 44.0921\n",
      "\n",
      "Epoch 00029: saving model to ./run/vae/0002_digits/weights/weights-029-61.80.h5\n",
      "\n",
      "Epoch 00029: saving model to ./run/vae/0002_digits/weights/weights.h5\n",
      "Epoch 30/100\n",
      "50000/50000 [==============================] - 134s 3ms/step - loss: 61.5912 - activation_1_loss: 4.3013 - activation_2_loss: 13.3470 - activation_3_loss: 43.9430 - activation_1_vae_r_loss: 4.3013 - activation_2_vae_r_loss: 13.3470 - activation_3_vae_r_loss: 43.9430\n",
      "\n",
      "Epoch 00030: saving model to ./run/vae/0002_digits/weights/weights-030-61.59.h5\n",
      "\n",
      "Epoch 00030: saving model to ./run/vae/0002_digits/weights/weights.h5\n",
      "Epoch 31/100\n",
      "50000/50000 [==============================] - 134s 3ms/step - loss: 61.5984 - activation_1_loss: 4.2881 - activation_2_loss: 13.3365 - activation_3_loss: 43.9739 - activation_1_vae_r_loss: 4.2881 - activation_2_vae_r_loss: 13.3365 - activation_3_vae_r_loss: 43.9739\n",
      "\n",
      "Epoch 00031: saving model to ./run/vae/0002_digits/weights/weights-031-61.60.h5\n",
      "\n",
      "Epoch 00031: saving model to ./run/vae/0002_digits/weights/weights.h5\n",
      "Epoch 32/100\n",
      "50000/50000 [==============================] - 134s 3ms/step - loss: 61.5151 - activation_1_loss: 4.2870 - activation_2_loss: 13.3126 - activation_3_loss: 43.9155 - activation_1_vae_r_loss: 4.2870 - activation_2_vae_r_loss: 13.3126 - activation_3_vae_r_loss: 43.9155\n",
      "\n",
      "Epoch 00032: saving model to ./run/vae/0002_digits/weights/weights-032-61.52.h5\n",
      "\n",
      "Epoch 00032: saving model to ./run/vae/0002_digits/weights/weights.h5\n",
      "Epoch 33/100\n",
      "50000/50000 [==============================] - 134s 3ms/step - loss: 61.2516 - activation_1_loss: 4.2653 - activation_2_loss: 13.2612 - activation_3_loss: 43.7250 - activation_1_vae_r_loss: 4.2653 - activation_2_vae_r_loss: 13.2612 - activation_3_vae_r_loss: 43.7250\n",
      "\n",
      "Epoch 00033: saving model to ./run/vae/0002_digits/weights/weights-033-61.25.h5\n",
      "\n",
      "Epoch 00033: saving model to ./run/vae/0002_digits/weights/weights.h5\n",
      "Epoch 34/100\n",
      "50000/50000 [==============================] - 134s 3ms/step - loss: 61.1534 - activation_1_loss: 4.2577 - activation_2_loss: 13.2504 - activation_3_loss: 43.6453 - activation_1_vae_r_loss: 4.2577 - activation_2_vae_r_loss: 13.2504 - activation_3_vae_r_loss: 43.6453\n",
      "\n",
      "Epoch 00034: saving model to ./run/vae/0002_digits/weights/weights-034-61.15.h5\n",
      "\n",
      "Epoch 00034: saving model to ./run/vae/0002_digits/weights/weights.h5\n",
      "Epoch 35/100\n",
      "50000/50000 [==============================] - 134s 3ms/step - loss: 61.0404 - activation_1_loss: 4.2489 - activation_2_loss: 13.2184 - activation_3_loss: 43.5731 - activation_1_vae_r_loss: 4.2489 - activation_2_vae_r_loss: 13.2184 - activation_3_vae_r_loss: 43.5731\n",
      "\n",
      "Epoch 00035: saving model to ./run/vae/0002_digits/weights/weights-035-61.04.h5\n",
      "\n",
      "Epoch 00035: saving model to ./run/vae/0002_digits/weights/weights.h5\n",
      "Epoch 36/100\n",
      "50000/50000 [==============================] - 134s 3ms/step - loss: 60.9837 - activation_1_loss: 4.2355 - activation_2_loss: 13.2060 - activation_3_loss: 43.5422 - activation_1_vae_r_loss: 4.2355 - activation_2_vae_r_loss: 13.2060 - activation_3_vae_r_loss: 43.5422\n",
      "\n",
      "Epoch 00036: saving model to ./run/vae/0002_digits/weights/weights-036-60.98.h5\n",
      "\n",
      "Epoch 00036: saving model to ./run/vae/0002_digits/weights/weights.h5\n",
      "Epoch 37/100\n",
      "50000/50000 [==============================] - 134s 3ms/step - loss: 60.9140 - activation_1_loss: 4.2282 - activation_2_loss: 13.1876 - activation_3_loss: 43.4982 - activation_1_vae_r_loss: 4.2282 - activation_2_vae_r_loss: 13.1876 - activation_3_vae_r_loss: 43.4982\n",
      "\n",
      "Epoch 00037: saving model to ./run/vae/0002_digits/weights/weights-037-60.91.h5\n",
      "\n",
      "Epoch 00037: saving model to ./run/vae/0002_digits/weights/weights.h5\n",
      "Epoch 38/100\n",
      "50000/50000 [==============================] - 134s 3ms/step - loss: 60.8117 - activation_1_loss: 4.2141 - activation_2_loss: 13.1626 - activation_3_loss: 43.4349 - activation_1_vae_r_loss: 4.2141 - activation_2_vae_r_loss: 13.1626 - activation_3_vae_r_loss: 43.4349\n",
      "\n",
      "Epoch 00038: saving model to ./run/vae/0002_digits/weights/weights-038-60.81.h5\n",
      "\n",
      "Epoch 00038: saving model to ./run/vae/0002_digits/weights/weights.h5\n"
     ]
    },
    {
     "name": "stdout",
     "output_type": "stream",
     "text": [
      "Epoch 39/100\n",
      "50000/50000 [==============================] - 134s 3ms/step - loss: 60.7244 - activation_1_loss: 4.2095 - activation_2_loss: 13.1479 - activation_3_loss: 43.3669 - activation_1_vae_r_loss: 4.2095 - activation_2_vae_r_loss: 13.1479 - activation_3_vae_r_loss: 43.3669\n",
      "\n",
      "Epoch 00039: saving model to ./run/vae/0002_digits/weights/weights-039-60.72.h5\n",
      "\n",
      "Epoch 00039: saving model to ./run/vae/0002_digits/weights/weights.h5\n",
      "Epoch 40/100\n",
      "50000/50000 [==============================] - 134s 3ms/step - loss: 60.6293 - activation_1_loss: 4.1982 - activation_2_loss: 13.1197 - activation_3_loss: 43.3114 - activation_1_vae_r_loss: 4.1982 - activation_2_vae_r_loss: 13.1197 - activation_3_vae_r_loss: 43.3114\n",
      "\n",
      "Epoch 00040: saving model to ./run/vae/0002_digits/weights/weights-040-60.63.h5\n",
      "\n",
      "Epoch 00040: saving model to ./run/vae/0002_digits/weights/weights.h5\n",
      "Epoch 41/100\n",
      "50000/50000 [==============================] - 134s 3ms/step - loss: 60.4768 - activation_1_loss: 4.1812 - activation_2_loss: 13.0837 - activation_3_loss: 43.2119 - activation_1_vae_r_loss: 4.1812 - activation_2_vae_r_loss: 13.0837 - activation_3_vae_r_loss: 43.2119\n",
      "\n",
      "Epoch 00041: saving model to ./run/vae/0002_digits/weights/weights-041-60.48.h5\n",
      "\n",
      "Epoch 00041: saving model to ./run/vae/0002_digits/weights/weights.h5\n",
      "Epoch 42/100\n",
      "50000/50000 [==============================] - 134s 3ms/step - loss: 60.5223 - activation_1_loss: 4.1860 - activation_2_loss: 13.0947 - activation_3_loss: 43.2417 - activation_1_vae_r_loss: 4.1860 - activation_2_vae_r_loss: 13.0947 - activation_3_vae_r_loss: 43.2417\n",
      "\n",
      "Epoch 00042: saving model to ./run/vae/0002_digits/weights/weights-042-60.52.h5\n",
      "\n",
      "Epoch 00042: saving model to ./run/vae/0002_digits/weights/weights.h5\n",
      "Epoch 43/100\n",
      "50000/50000 [==============================] - 134s 3ms/step - loss: 60.4195 - activation_1_loss: 4.1705 - activation_2_loss: 13.0809 - activation_3_loss: 43.1682 - activation_1_vae_r_loss: 4.1705 - activation_2_vae_r_loss: 13.0809 - activation_3_vae_r_loss: 43.1682\n",
      "\n",
      "Epoch 00043: saving model to ./run/vae/0002_digits/weights/weights-043-60.42.h5\n",
      "\n",
      "Epoch 00043: saving model to ./run/vae/0002_digits/weights/weights.h5\n",
      "Epoch 44/100\n",
      "50000/50000 [==============================] - 134s 3ms/step - loss: 60.4529 - activation_1_loss: 4.1744 - activation_2_loss: 13.0793 - activation_3_loss: 43.1991 - activation_1_vae_r_loss: 4.1744 - activation_2_vae_r_loss: 13.0793 - activation_3_vae_r_loss: 43.1991\n",
      "\n",
      "Epoch 00044: saving model to ./run/vae/0002_digits/weights/weights-044-60.45.h5\n",
      "\n",
      "Epoch 00044: saving model to ./run/vae/0002_digits/weights/weights.h5\n",
      "Epoch 45/100\n",
      "50000/50000 [==============================] - 134s 3ms/step - loss: 60.3975 - activation_1_loss: 4.1684 - activation_2_loss: 13.0697 - activation_3_loss: 43.1595 - activation_1_vae_r_loss: 4.1684 - activation_2_vae_r_loss: 13.0697 - activation_3_vae_r_loss: 43.1595\n",
      "\n",
      "Epoch 00045: saving model to ./run/vae/0002_digits/weights/weights-045-60.40.h5\n",
      "\n",
      "Epoch 00045: saving model to ./run/vae/0002_digits/weights/weights.h5\n",
      "Epoch 46/100\n",
      "50000/50000 [==============================] - 134s 3ms/step - loss: 60.4092 - activation_1_loss: 4.1661 - activation_2_loss: 13.0747 - activation_3_loss: 43.1684 - activation_1_vae_r_loss: 4.1661 - activation_2_vae_r_loss: 13.0747 - activation_3_vae_r_loss: 43.1684\n",
      "\n",
      "Epoch 00046: saving model to ./run/vae/0002_digits/weights/weights-046-60.41.h5\n",
      "\n",
      "Epoch 00046: saving model to ./run/vae/0002_digits/weights/weights.h5\n",
      "Epoch 47/100\n",
      "50000/50000 [==============================] - 134s 3ms/step - loss: 60.3847 - activation_1_loss: 4.1680 - activation_2_loss: 13.0651 - activation_3_loss: 43.1516 - activation_1_vae_r_loss: 4.1680 - activation_2_vae_r_loss: 13.0651 - activation_3_vae_r_loss: 43.1516\n",
      "\n",
      "Epoch 00047: saving model to ./run/vae/0002_digits/weights/weights-047-60.38.h5\n",
      "\n",
      "Epoch 00047: saving model to ./run/vae/0002_digits/weights/weights.h5\n",
      "Epoch 48/100\n",
      "50000/50000 [==============================] - 134s 3ms/step - loss: 60.2499 - activation_1_loss: 4.1551 - activation_2_loss: 13.0363 - activation_3_loss: 43.0586 - activation_1_vae_r_loss: 4.1551 - activation_2_vae_r_loss: 13.0363 - activation_3_vae_r_loss: 43.0586\n",
      "\n",
      "Epoch 00048: saving model to ./run/vae/0002_digits/weights/weights-048-60.25.h5\n",
      "\n",
      "Epoch 00048: saving model to ./run/vae/0002_digits/weights/weights.h5\n",
      "Epoch 49/100\n",
      "50000/50000 [==============================] - 134s 3ms/step - loss: 60.2173 - activation_1_loss: 4.1524 - activation_2_loss: 13.0262 - activation_3_loss: 43.0387 - activation_1_vae_r_loss: 4.1524 - activation_2_vae_r_loss: 13.0262 - activation_3_vae_r_loss: 43.0387\n",
      "\n",
      "Epoch 00049: saving model to ./run/vae/0002_digits/weights/weights-049-60.22.h5\n",
      "\n",
      "Epoch 00049: saving model to ./run/vae/0002_digits/weights/weights.h5\n",
      "Epoch 50/100\n",
      "50000/50000 [==============================] - 134s 3ms/step - loss: 60.2791 - activation_1_loss: 4.1541 - activation_2_loss: 13.0305 - activation_3_loss: 43.0945 - activation_1_vae_r_loss: 4.1541 - activation_2_vae_r_loss: 13.0305 - activation_3_vae_r_loss: 43.0945\n",
      "\n",
      "Epoch 00050: saving model to ./run/vae/0002_digits/weights/weights-050-60.28.h5\n",
      "\n",
      "Epoch 00050: saving model to ./run/vae/0002_digits/weights/weights.h5\n",
      "Epoch 51/100\n",
      "50000/50000 [==============================] - 134s 3ms/step - loss: 60.1895 - activation_1_loss: 4.1473 - activation_2_loss: 13.0222 - activation_3_loss: 43.0200 - activation_1_vae_r_loss: 4.1473 - activation_2_vae_r_loss: 13.0222 - activation_3_vae_r_loss: 43.0200\n",
      "\n",
      "Epoch 00051: saving model to ./run/vae/0002_digits/weights/weights-051-60.19.h5\n",
      "\n",
      "Epoch 00051: saving model to ./run/vae/0002_digits/weights/weights.h5\n",
      "Epoch 52/100\n",
      "50000/50000 [==============================] - 134s 3ms/step - loss: 60.2056 - activation_1_loss: 4.1442 - activation_2_loss: 13.0216 - activation_3_loss: 43.0398 - activation_1_vae_r_loss: 4.1442 - activation_2_vae_r_loss: 13.0216 - activation_3_vae_r_loss: 43.0398\n",
      "\n",
      "Epoch 00052: saving model to ./run/vae/0002_digits/weights/weights-052-60.21.h5\n",
      "\n",
      "Epoch 00052: saving model to ./run/vae/0002_digits/weights/weights.h5\n",
      "Epoch 53/100\n",
      "50000/50000 [==============================] - 134s 3ms/step - loss: 60.1261 - activation_1_loss: 4.1295 - activation_2_loss: 13.0029 - activation_3_loss: 42.9936 - activation_1_vae_r_loss: 4.1295 - activation_2_vae_r_loss: 13.0029 - activation_3_vae_r_loss: 42.9936\n",
      "\n",
      "Epoch 00053: saving model to ./run/vae/0002_digits/weights/weights-053-60.13.h5\n",
      "\n",
      "Epoch 00053: saving model to ./run/vae/0002_digits/weights/weights.h5\n",
      "Epoch 54/100\n",
      "50000/50000 [==============================] - 134s 3ms/step - loss: 60.0826 - activation_1_loss: 4.1269 - activation_2_loss: 12.9957 - activation_3_loss: 42.9600 - activation_1_vae_r_loss: 4.1269 - activation_2_vae_r_loss: 12.9957 - activation_3_vae_r_loss: 42.9600\n",
      "\n",
      "Epoch 00054: saving model to ./run/vae/0002_digits/weights/weights-054-60.08.h5\n",
      "\n",
      "Epoch 00054: saving model to ./run/vae/0002_digits/weights/weights.h5\n",
      "Epoch 55/100\n",
      "50000/50000 [==============================] - 134s 3ms/step - loss: 60.0800 - activation_1_loss: 4.1298 - activation_2_loss: 12.9926 - activation_3_loss: 42.9577 - activation_1_vae_r_loss: 4.1298 - activation_2_vae_r_loss: 12.9926 - activation_3_vae_r_loss: 42.9577\n",
      "\n",
      "Epoch 00055: saving model to ./run/vae/0002_digits/weights/weights-055-60.08.h5\n",
      "\n",
      "Epoch 00055: saving model to ./run/vae/0002_digits/weights/weights.h5\n",
      "Epoch 56/100\n",
      "50000/50000 [==============================] - 134s 3ms/step - loss: 60.0688 - activation_1_loss: 4.1208 - activation_2_loss: 12.9836 - activation_3_loss: 42.9644 - activation_1_vae_r_loss: 4.1208 - activation_2_vae_r_loss: 12.9836 - activation_3_vae_r_loss: 42.9644\n",
      "\n",
      "Epoch 00056: saving model to ./run/vae/0002_digits/weights/weights-056-60.07.h5\n",
      "\n",
      "Epoch 00056: saving model to ./run/vae/0002_digits/weights/weights.h5\n",
      "Epoch 57/100\n",
      "50000/50000 [==============================] - 134s 3ms/step - loss: 59.9856 - activation_1_loss: 4.1179 - activation_2_loss: 12.9766 - activation_3_loss: 42.8911 - activation_1_vae_r_loss: 4.1179 - activation_2_vae_r_loss: 12.9766 - activation_3_vae_r_loss: 42.8911\n",
      "\n",
      "Epoch 00057: saving model to ./run/vae/0002_digits/weights/weights-057-59.99.h5\n",
      "\n",
      "Epoch 00057: saving model to ./run/vae/0002_digits/weights/weights.h5\n"
     ]
    },
    {
     "name": "stdout",
     "output_type": "stream",
     "text": [
      "Epoch 58/100\n",
      "50000/50000 [==============================] - 134s 3ms/step - loss: 59.9448 - activation_1_loss: 4.1198 - activation_2_loss: 12.9729 - activation_3_loss: 42.8521 - activation_1_vae_r_loss: 4.1198 - activation_2_vae_r_loss: 12.9729 - activation_3_vae_r_loss: 42.8521\n",
      "\n",
      "Epoch 00058: saving model to ./run/vae/0002_digits/weights/weights-058-59.94.h5\n",
      "\n",
      "Epoch 00058: saving model to ./run/vae/0002_digits/weights/weights.h5\n",
      "Epoch 59/100\n",
      "50000/50000 [==============================] - 134s 3ms/step - loss: 59.9750 - activation_1_loss: 4.1200 - activation_2_loss: 12.9671 - activation_3_loss: 42.8879 - activation_1_vae_r_loss: 4.1200 - activation_2_vae_r_loss: 12.9671 - activation_3_vae_r_loss: 42.8879\n",
      "\n",
      "Epoch 00059: saving model to ./run/vae/0002_digits/weights/weights-059-59.97.h5\n",
      "\n",
      "Epoch 00059: saving model to ./run/vae/0002_digits/weights/weights.h5\n",
      "Epoch 60/100\n",
      "50000/50000 [==============================] - 134s 3ms/step - loss: 59.9449 - activation_1_loss: 4.1062 - activation_2_loss: 12.9563 - activation_3_loss: 42.8823 - activation_1_vae_r_loss: 4.1062 - activation_2_vae_r_loss: 12.9563 - activation_3_vae_r_loss: 42.8823\n",
      "\n",
      "Epoch 00060: saving model to ./run/vae/0002_digits/weights/weights-060-59.94.h5\n",
      "\n",
      "Epoch 00060: saving model to ./run/vae/0002_digits/weights/weights.h5\n",
      "Epoch 61/100\n",
      "50000/50000 [==============================] - 134s 3ms/step - loss: 59.8518 - activation_1_loss: 4.1031 - activation_2_loss: 12.9400 - activation_3_loss: 42.8087 - activation_1_vae_r_loss: 4.1031 - activation_2_vae_r_loss: 12.9400 - activation_3_vae_r_loss: 42.8087\n",
      "\n",
      "Epoch 00061: saving model to ./run/vae/0002_digits/weights/weights-061-59.85.h5\n",
      "\n",
      "Epoch 00061: saving model to ./run/vae/0002_digits/weights/weights.h5\n",
      "Epoch 62/100\n",
      "50000/50000 [==============================] - 135s 3ms/step - loss: 59.8204 - activation_1_loss: 4.1060 - activation_2_loss: 12.9404 - activation_3_loss: 42.7741 - activation_1_vae_r_loss: 4.1060 - activation_2_vae_r_loss: 12.9404 - activation_3_vae_r_loss: 42.7741\n",
      "\n",
      "Epoch 00062: saving model to ./run/vae/0002_digits/weights/weights-062-59.82.h5\n",
      "\n",
      "Epoch 00062: saving model to ./run/vae/0002_digits/weights/weights.h5\n",
      "Epoch 63/100\n",
      "50000/50000 [==============================] - 134s 3ms/step - loss: 59.7896 - activation_1_loss: 4.1031 - activation_2_loss: 12.9325 - activation_3_loss: 42.7540 - activation_1_vae_r_loss: 4.1031 - activation_2_vae_r_loss: 12.9325 - activation_3_vae_r_loss: 42.7540\n",
      "\n",
      "Epoch 00063: saving model to ./run/vae/0002_digits/weights/weights-063-59.79.h5\n",
      "\n",
      "Epoch 00063: saving model to ./run/vae/0002_digits/weights/weights.h5\n",
      "Epoch 64/100\n",
      "50000/50000 [==============================] - 134s 3ms/step - loss: 59.8056 - activation_1_loss: 4.1009 - activation_2_loss: 12.9421 - activation_3_loss: 42.7626 - activation_1_vae_r_loss: 4.1009 - activation_2_vae_r_loss: 12.9421 - activation_3_vae_r_loss: 42.7626\n",
      "\n",
      "Epoch 00064: saving model to ./run/vae/0002_digits/weights/weights-064-59.81.h5\n",
      "\n",
      "Epoch 00064: saving model to ./run/vae/0002_digits/weights/weights.h5\n",
      "Epoch 65/100\n",
      "50000/50000 [==============================] - 134s 3ms/step - loss: 59.8664 - activation_1_loss: 4.1037 - activation_2_loss: 12.9523 - activation_3_loss: 42.8103 - activation_1_vae_r_loss: 4.1037 - activation_2_vae_r_loss: 12.9523 - activation_3_vae_r_loss: 42.8103\n",
      "\n",
      "Epoch 00065: saving model to ./run/vae/0002_digits/weights/weights-065-59.87.h5\n",
      "\n",
      "Epoch 00065: saving model to ./run/vae/0002_digits/weights/weights.h5\n",
      "Epoch 66/100\n",
      "50000/50000 [==============================] - 134s 3ms/step - loss: 59.7911 - activation_1_loss: 4.1001 - activation_2_loss: 12.9280 - activation_3_loss: 42.7630 - activation_1_vae_r_loss: 4.1001 - activation_2_vae_r_loss: 12.9280 - activation_3_vae_r_loss: 42.7630\n",
      "\n",
      "Epoch 00066: saving model to ./run/vae/0002_digits/weights/weights-066-59.79.h5\n",
      "\n",
      "Epoch 00066: saving model to ./run/vae/0002_digits/weights/weights.h5\n",
      "Epoch 67/100\n",
      " 2720/50000 [>.............................] - ETA: 2:06 - loss: 59.5722 - activation_1_loss: 4.0920 - activation_2_loss: 12.8922 - activation_3_loss: 42.5881 - activation_1_vae_r_loss: 4.0920 - activation_2_vae_r_loss: 12.8922 - activation_3_vae_r_loss: 42.5881"
     ]
    }
   ],
   "source": [
    "multiscale_vae.train(     \n",
    "    x_train, \n",
    "    batch_size = BATCH_SIZE, \n",
    "    epochs = EPOCHS, \n",
    "    run_folder = RUN_FOLDER, \n",
    "    print_every_n_batches = PRINT_EVERY_N_BATCHES, \n",
    "    initial_epoch = INITIAL_EPOCH,\n",
    "    step_size=20,\n",
    "    lr_decay=0.5\n",
    ")"
   ]
  },
  {
   "cell_type": "code",
   "execution_count": null,
   "metadata": {},
   "outputs": [],
   "source": [
    "results = multiscale_vae.model_predict.predict(x_train[0:1,:,:,:])"
   ]
  },
  {
   "cell_type": "code",
   "execution_count": null,
   "metadata": {},
   "outputs": [],
   "source": [
    "fig, axs = plt.subplots(1, 2, figsize=(15,15))\n",
    "plt.subplot(1,2,1)\n",
    "plt.xlabel(\"original\")\n",
    "plt.imshow(x_train[0,:,:,:])\n",
    "plt.subplot(1,2,2)\n",
    "plt.imshow(results[0,:,:,:])\n",
    "plt.xlabel(\"recovery\")\n",
    "plt.show() "
   ]
  },
  {
   "cell_type": "code",
   "execution_count": null,
   "metadata": {},
   "outputs": [],
   "source": []
  },
  {
   "cell_type": "code",
   "execution_count": null,
   "metadata": {},
   "outputs": [],
   "source": []
  }
 ],
 "metadata": {
  "kernelspec": {
   "display_name": "Python 3",
   "language": "python",
   "name": "python3"
  },
  "language_info": {
   "codemirror_mode": {
    "name": "ipython",
    "version": 3
   },
   "file_extension": ".py",
   "mimetype": "text/x-python",
   "name": "python",
   "nbconvert_exporter": "python",
   "pygments_lexer": "ipython3",
   "version": "3.7.6"
  }
 },
 "nbformat": 4,
 "nbformat_minor": 4
}
